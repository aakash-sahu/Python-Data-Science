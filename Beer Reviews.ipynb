{
 "cells": [
  {
   "cell_type": "markdown",
   "metadata": {},
   "source": [
    "# Beer reivew analysis\n",
    "\n",
    "The beer review data set is available at https://www.kaggle.com/rdoume/beerreviews.\n",
    "\n",
    "Following kernel performs data analysis and tries to look for the weirdest beers as well as tries to recommend beers to a friend. Also looking for factor most contributing to the overall review of the beer."
   ]
  },
  {
   "cell_type": "markdown",
   "metadata": {},
   "source": [
    "### Load libaries"
   ]
  },
  {
   "cell_type": "code",
   "execution_count": 1,
   "metadata": {},
   "outputs": [],
   "source": [
    "import pandas as pd\n",
    "import numpy as np\n",
    "import seaborn as sns\n",
    "import matplotlib.pyplot as plt\n",
    "%matplotlib inline\n",
    "plt.style.use('ggplot')\n",
    "\n",
    "pd.set_option('display.max_rows', 1000)\n",
    "pd.set_option('display.max_columns', 1000)\n",
    "\n",
    "import warnings\n",
    "warnings.filterwarnings('ignore')\n",
    "\n",
    "from IPython import display"
   ]
  },
  {
   "cell_type": "markdown",
   "metadata": {},
   "source": [
    "### Load data and initial EDA"
   ]
  },
  {
   "cell_type": "code",
   "execution_count": 2,
   "metadata": {},
   "outputs": [
    {
     "data": {
      "text/html": [
       "<div>\n",
       "<style scoped>\n",
       "    .dataframe tbody tr th:only-of-type {\n",
       "        vertical-align: middle;\n",
       "    }\n",
       "\n",
       "    .dataframe tbody tr th {\n",
       "        vertical-align: top;\n",
       "    }\n",
       "\n",
       "    .dataframe thead th {\n",
       "        text-align: right;\n",
       "    }\n",
       "</style>\n",
       "<table border=\"1\" class=\"dataframe\">\n",
       "  <thead>\n",
       "    <tr style=\"text-align: right;\">\n",
       "      <th></th>\n",
       "      <th>brewery_id</th>\n",
       "      <th>brewery_name</th>\n",
       "      <th>review_time</th>\n",
       "      <th>review_overall</th>\n",
       "      <th>review_aroma</th>\n",
       "      <th>review_appearance</th>\n",
       "      <th>review_profilename</th>\n",
       "      <th>beer_style</th>\n",
       "      <th>review_palate</th>\n",
       "      <th>review_taste</th>\n",
       "      <th>beer_name</th>\n",
       "      <th>beer_abv</th>\n",
       "      <th>beer_beerid</th>\n",
       "    </tr>\n",
       "  </thead>\n",
       "  <tbody>\n",
       "    <tr>\n",
       "      <th>0</th>\n",
       "      <td>10325</td>\n",
       "      <td>Vecchio Birraio</td>\n",
       "      <td>1234817823</td>\n",
       "      <td>1.5</td>\n",
       "      <td>2.0</td>\n",
       "      <td>2.5</td>\n",
       "      <td>stcules</td>\n",
       "      <td>Hefeweizen</td>\n",
       "      <td>1.5</td>\n",
       "      <td>1.5</td>\n",
       "      <td>Sausa Weizen</td>\n",
       "      <td>5.0</td>\n",
       "      <td>47986</td>\n",
       "    </tr>\n",
       "    <tr>\n",
       "      <th>1</th>\n",
       "      <td>10325</td>\n",
       "      <td>Vecchio Birraio</td>\n",
       "      <td>1235915097</td>\n",
       "      <td>3.0</td>\n",
       "      <td>2.5</td>\n",
       "      <td>3.0</td>\n",
       "      <td>stcules</td>\n",
       "      <td>English Strong Ale</td>\n",
       "      <td>3.0</td>\n",
       "      <td>3.0</td>\n",
       "      <td>Red Moon</td>\n",
       "      <td>6.2</td>\n",
       "      <td>48213</td>\n",
       "    </tr>\n",
       "    <tr>\n",
       "      <th>2</th>\n",
       "      <td>10325</td>\n",
       "      <td>Vecchio Birraio</td>\n",
       "      <td>1235916604</td>\n",
       "      <td>3.0</td>\n",
       "      <td>2.5</td>\n",
       "      <td>3.0</td>\n",
       "      <td>stcules</td>\n",
       "      <td>Foreign / Export Stout</td>\n",
       "      <td>3.0</td>\n",
       "      <td>3.0</td>\n",
       "      <td>Black Horse Black Beer</td>\n",
       "      <td>6.5</td>\n",
       "      <td>48215</td>\n",
       "    </tr>\n",
       "    <tr>\n",
       "      <th>3</th>\n",
       "      <td>10325</td>\n",
       "      <td>Vecchio Birraio</td>\n",
       "      <td>1234725145</td>\n",
       "      <td>3.0</td>\n",
       "      <td>3.0</td>\n",
       "      <td>3.5</td>\n",
       "      <td>stcules</td>\n",
       "      <td>German Pilsener</td>\n",
       "      <td>2.5</td>\n",
       "      <td>3.0</td>\n",
       "      <td>Sausa Pils</td>\n",
       "      <td>5.0</td>\n",
       "      <td>47969</td>\n",
       "    </tr>\n",
       "    <tr>\n",
       "      <th>4</th>\n",
       "      <td>1075</td>\n",
       "      <td>Caldera Brewing Company</td>\n",
       "      <td>1293735206</td>\n",
       "      <td>4.0</td>\n",
       "      <td>4.5</td>\n",
       "      <td>4.0</td>\n",
       "      <td>johnmichaelsen</td>\n",
       "      <td>American Double / Imperial IPA</td>\n",
       "      <td>4.0</td>\n",
       "      <td>4.5</td>\n",
       "      <td>Cauldron DIPA</td>\n",
       "      <td>7.7</td>\n",
       "      <td>64883</td>\n",
       "    </tr>\n",
       "  </tbody>\n",
       "</table>\n",
       "</div>"
      ],
      "text/plain": [
       "   brewery_id             brewery_name  review_time  review_overall  \\\n",
       "0       10325          Vecchio Birraio   1234817823             1.5   \n",
       "1       10325          Vecchio Birraio   1235915097             3.0   \n",
       "2       10325          Vecchio Birraio   1235916604             3.0   \n",
       "3       10325          Vecchio Birraio   1234725145             3.0   \n",
       "4        1075  Caldera Brewing Company   1293735206             4.0   \n",
       "\n",
       "   review_aroma  review_appearance review_profilename  \\\n",
       "0           2.0                2.5            stcules   \n",
       "1           2.5                3.0            stcules   \n",
       "2           2.5                3.0            stcules   \n",
       "3           3.0                3.5            stcules   \n",
       "4           4.5                4.0     johnmichaelsen   \n",
       "\n",
       "                       beer_style  review_palate  review_taste  \\\n",
       "0                      Hefeweizen            1.5           1.5   \n",
       "1              English Strong Ale            3.0           3.0   \n",
       "2          Foreign / Export Stout            3.0           3.0   \n",
       "3                 German Pilsener            2.5           3.0   \n",
       "4  American Double / Imperial IPA            4.0           4.5   \n",
       "\n",
       "                beer_name  beer_abv  beer_beerid  \n",
       "0            Sausa Weizen       5.0        47986  \n",
       "1                Red Moon       6.2        48213  \n",
       "2  Black Horse Black Beer       6.5        48215  \n",
       "3              Sausa Pils       5.0        47969  \n",
       "4           Cauldron DIPA       7.7        64883  "
      ]
     },
     "execution_count": 2,
     "metadata": {},
     "output_type": "execute_result"
    }
   ],
   "source": [
    "data = pd.read_csv('beer_reviews_2.csv')\n",
    "data.head()"
   ]
  },
  {
   "cell_type": "code",
   "execution_count": 3,
   "metadata": {},
   "outputs": [],
   "source": [
    "#Convert the review_time to date\n",
    "data['review_time'] = pd.to_datetime(data.review_time, unit = 's')"
   ]
  },
  {
   "cell_type": "code",
   "execution_count": 4,
   "metadata": {},
   "outputs": [
    {
     "name": "stdout",
     "output_type": "stream",
     "text": [
      "Shape of the dataset:  (1586614, 13)\n",
      "\n",
      "General description of data:\n"
     ]
    },
    {
     "data": {
      "text/html": [
       "<div>\n",
       "<style scoped>\n",
       "    .dataframe tbody tr th:only-of-type {\n",
       "        vertical-align: middle;\n",
       "    }\n",
       "\n",
       "    .dataframe tbody tr th {\n",
       "        vertical-align: top;\n",
       "    }\n",
       "\n",
       "    .dataframe thead th {\n",
       "        text-align: right;\n",
       "    }\n",
       "</style>\n",
       "<table border=\"1\" class=\"dataframe\">\n",
       "  <thead>\n",
       "    <tr style=\"text-align: right;\">\n",
       "      <th></th>\n",
       "      <th>brewery_id</th>\n",
       "      <th>review_overall</th>\n",
       "      <th>review_aroma</th>\n",
       "      <th>review_appearance</th>\n",
       "      <th>review_palate</th>\n",
       "      <th>review_taste</th>\n",
       "      <th>beer_abv</th>\n",
       "      <th>beer_beerid</th>\n",
       "    </tr>\n",
       "  </thead>\n",
       "  <tbody>\n",
       "    <tr>\n",
       "      <th>count</th>\n",
       "      <td>1.586614e+06</td>\n",
       "      <td>1.586614e+06</td>\n",
       "      <td>1.586614e+06</td>\n",
       "      <td>1.586614e+06</td>\n",
       "      <td>1.586614e+06</td>\n",
       "      <td>1.586614e+06</td>\n",
       "      <td>1.518829e+06</td>\n",
       "      <td>1.586614e+06</td>\n",
       "    </tr>\n",
       "    <tr>\n",
       "      <th>mean</th>\n",
       "      <td>3.130099e+03</td>\n",
       "      <td>3.815581e+00</td>\n",
       "      <td>3.735636e+00</td>\n",
       "      <td>3.841642e+00</td>\n",
       "      <td>3.743701e+00</td>\n",
       "      <td>3.792860e+00</td>\n",
       "      <td>7.042387e+00</td>\n",
       "      <td>2.171279e+04</td>\n",
       "    </tr>\n",
       "    <tr>\n",
       "      <th>std</th>\n",
       "      <td>5.578104e+03</td>\n",
       "      <td>7.206219e-01</td>\n",
       "      <td>6.976167e-01</td>\n",
       "      <td>6.160928e-01</td>\n",
       "      <td>6.822184e-01</td>\n",
       "      <td>7.319696e-01</td>\n",
       "      <td>2.322526e+00</td>\n",
       "      <td>2.181834e+04</td>\n",
       "    </tr>\n",
       "    <tr>\n",
       "      <th>min</th>\n",
       "      <td>1.000000e+00</td>\n",
       "      <td>0.000000e+00</td>\n",
       "      <td>1.000000e+00</td>\n",
       "      <td>0.000000e+00</td>\n",
       "      <td>1.000000e+00</td>\n",
       "      <td>1.000000e+00</td>\n",
       "      <td>1.000000e-02</td>\n",
       "      <td>3.000000e+00</td>\n",
       "    </tr>\n",
       "    <tr>\n",
       "      <th>25%</th>\n",
       "      <td>1.430000e+02</td>\n",
       "      <td>3.500000e+00</td>\n",
       "      <td>3.500000e+00</td>\n",
       "      <td>3.500000e+00</td>\n",
       "      <td>3.500000e+00</td>\n",
       "      <td>3.500000e+00</td>\n",
       "      <td>5.200000e+00</td>\n",
       "      <td>1.717000e+03</td>\n",
       "    </tr>\n",
       "    <tr>\n",
       "      <th>50%</th>\n",
       "      <td>4.290000e+02</td>\n",
       "      <td>4.000000e+00</td>\n",
       "      <td>4.000000e+00</td>\n",
       "      <td>4.000000e+00</td>\n",
       "      <td>4.000000e+00</td>\n",
       "      <td>4.000000e+00</td>\n",
       "      <td>6.500000e+00</td>\n",
       "      <td>1.390600e+04</td>\n",
       "    </tr>\n",
       "    <tr>\n",
       "      <th>75%</th>\n",
       "      <td>2.372000e+03</td>\n",
       "      <td>4.500000e+00</td>\n",
       "      <td>4.000000e+00</td>\n",
       "      <td>4.000000e+00</td>\n",
       "      <td>4.000000e+00</td>\n",
       "      <td>4.500000e+00</td>\n",
       "      <td>8.500000e+00</td>\n",
       "      <td>3.944100e+04</td>\n",
       "    </tr>\n",
       "    <tr>\n",
       "      <th>max</th>\n",
       "      <td>2.800300e+04</td>\n",
       "      <td>5.000000e+00</td>\n",
       "      <td>5.000000e+00</td>\n",
       "      <td>5.000000e+00</td>\n",
       "      <td>5.000000e+00</td>\n",
       "      <td>5.000000e+00</td>\n",
       "      <td>5.770000e+01</td>\n",
       "      <td>7.731700e+04</td>\n",
       "    </tr>\n",
       "  </tbody>\n",
       "</table>\n",
       "</div>"
      ],
      "text/plain": [
       "         brewery_id  review_overall  review_aroma  review_appearance  \\\n",
       "count  1.586614e+06    1.586614e+06  1.586614e+06       1.586614e+06   \n",
       "mean   3.130099e+03    3.815581e+00  3.735636e+00       3.841642e+00   \n",
       "std    5.578104e+03    7.206219e-01  6.976167e-01       6.160928e-01   \n",
       "min    1.000000e+00    0.000000e+00  1.000000e+00       0.000000e+00   \n",
       "25%    1.430000e+02    3.500000e+00  3.500000e+00       3.500000e+00   \n",
       "50%    4.290000e+02    4.000000e+00  4.000000e+00       4.000000e+00   \n",
       "75%    2.372000e+03    4.500000e+00  4.000000e+00       4.000000e+00   \n",
       "max    2.800300e+04    5.000000e+00  5.000000e+00       5.000000e+00   \n",
       "\n",
       "       review_palate  review_taste      beer_abv   beer_beerid  \n",
       "count   1.586614e+06  1.586614e+06  1.518829e+06  1.586614e+06  \n",
       "mean    3.743701e+00  3.792860e+00  7.042387e+00  2.171279e+04  \n",
       "std     6.822184e-01  7.319696e-01  2.322526e+00  2.181834e+04  \n",
       "min     1.000000e+00  1.000000e+00  1.000000e-02  3.000000e+00  \n",
       "25%     3.500000e+00  3.500000e+00  5.200000e+00  1.717000e+03  \n",
       "50%     4.000000e+00  4.000000e+00  6.500000e+00  1.390600e+04  \n",
       "75%     4.000000e+00  4.500000e+00  8.500000e+00  3.944100e+04  \n",
       "max     5.000000e+00  5.000000e+00  5.770000e+01  7.731700e+04  "
      ]
     },
     "execution_count": 4,
     "metadata": {},
     "output_type": "execute_result"
    }
   ],
   "source": [
    "print(\"Shape of the dataset: \", data.shape)\n",
    "print(\"\\nGeneral description of data:\")\n",
    "data.describe()"
   ]
  },
  {
   "cell_type": "markdown",
   "metadata": {},
   "source": [
    "Max ABV of 57.7 and minimum o 0.001!! That's some strong beer and week beer respevtively."
   ]
  },
  {
   "cell_type": "code",
   "execution_count": 5,
   "metadata": {},
   "outputs": [
    {
     "data": {
      "text/html": [
       "<div>\n",
       "<style scoped>\n",
       "    .dataframe tbody tr th:only-of-type {\n",
       "        vertical-align: middle;\n",
       "    }\n",
       "\n",
       "    .dataframe tbody tr th {\n",
       "        vertical-align: top;\n",
       "    }\n",
       "\n",
       "    .dataframe thead th {\n",
       "        text-align: right;\n",
       "    }\n",
       "</style>\n",
       "<table border=\"1\" class=\"dataframe\">\n",
       "  <thead>\n",
       "    <tr style=\"text-align: right;\">\n",
       "      <th></th>\n",
       "      <th>brewery_id</th>\n",
       "      <th>brewery_name</th>\n",
       "      <th>review_time</th>\n",
       "      <th>review_overall</th>\n",
       "      <th>review_aroma</th>\n",
       "      <th>review_appearance</th>\n",
       "      <th>review_profilename</th>\n",
       "      <th>beer_style</th>\n",
       "      <th>review_palate</th>\n",
       "      <th>review_taste</th>\n",
       "      <th>beer_name</th>\n",
       "      <th>beer_abv</th>\n",
       "      <th>beer_beerid</th>\n",
       "    </tr>\n",
       "  </thead>\n",
       "  <tbody>\n",
       "    <tr>\n",
       "      <th>0</th>\n",
       "      <td>0</td>\n",
       "      <td>15</td>\n",
       "      <td>0</td>\n",
       "      <td>0</td>\n",
       "      <td>0</td>\n",
       "      <td>0</td>\n",
       "      <td>348</td>\n",
       "      <td>0</td>\n",
       "      <td>0</td>\n",
       "      <td>0</td>\n",
       "      <td>0</td>\n",
       "      <td>67785</td>\n",
       "      <td>0</td>\n",
       "    </tr>\n",
       "  </tbody>\n",
       "</table>\n",
       "</div>"
      ],
      "text/plain": [
       "   brewery_id  brewery_name  review_time  review_overall  review_aroma  \\\n",
       "0           0            15            0               0             0   \n",
       "\n",
       "   review_appearance  review_profilename  beer_style  review_palate  \\\n",
       "0                  0                 348           0              0   \n",
       "\n",
       "   review_taste  beer_name  beer_abv  beer_beerid  \n",
       "0             0          0     67785            0  "
      ]
     },
     "execution_count": 5,
     "metadata": {},
     "output_type": "execute_result"
    }
   ],
   "source": [
    "#checking for nulls\n",
    "pd.DataFrame(data.isna().sum()).T"
   ]
  },
  {
   "cell_type": "markdown",
   "metadata": {},
   "source": [
    "**Not many nulls. Leaving them in dataset as it is for this analysis. The rows with null brewery name and reviewer name can also be proabably removed safely.**"
   ]
  },
  {
   "cell_type": "code",
   "execution_count": 6,
   "metadata": {},
   "outputs": [
    {
     "data": {
      "text/plain": [
       "brewery_id                     int64\n",
       "brewery_name                  object\n",
       "review_time           datetime64[ns]\n",
       "review_overall               float64\n",
       "review_aroma                 float64\n",
       "review_appearance            float64\n",
       "review_profilename            object\n",
       "beer_style                    object\n",
       "review_palate                float64\n",
       "review_taste                 float64\n",
       "beer_name                     object\n",
       "beer_abv                     float64\n",
       "beer_beerid                    int64\n",
       "dtype: object"
      ]
     },
     "execution_count": 6,
     "metadata": {},
     "output_type": "execute_result"
    }
   ],
   "source": [
    "#Checking for data types\n",
    "data.dtypes"
   ]
  },
  {
   "cell_type": "code",
   "execution_count": 7,
   "metadata": {},
   "outputs": [
    {
     "name": "stdout",
     "output_type": "stream",
     "text": [
      "minimum date = 1996-08-22 00:00:01 and maximum date = 2012-01-11 12:35:48\n"
     ]
    }
   ],
   "source": [
    "#Checking for minimum as maximum date\n",
    "print(\"minimum date = {} and maximum date = {}\".format(data.review_time.min(), data.review_time.max()))"
   ]
  },
  {
   "cell_type": "code",
   "execution_count": 8,
   "metadata": {},
   "outputs": [
    {
     "data": {
      "text/plain": [
       "4.0    582764\n",
       "4.5    324385\n",
       "3.5    301817\n",
       "3.0    165644\n",
       "5.0     91320\n",
       "2.5     58523\n",
       "2.0     38225\n",
       "1.5     12975\n",
       "1.0     10954\n",
       "0.0         7\n",
       "Name: review_overall, dtype: int64"
      ]
     },
     "execution_count": 8,
     "metadata": {},
     "output_type": "execute_result"
    }
   ],
   "source": [
    "data.review_overall.value_counts()"
   ]
  },
  {
   "cell_type": "markdown",
   "metadata": {},
   "source": [
    "Very few 0 reviews. Can be removed though will keep in the dataset for now."
   ]
  },
  {
   "cell_type": "markdown",
   "metadata": {},
   "source": [
    "### More visual EDA"
   ]
  },
  {
   "cell_type": "code",
   "execution_count": 9,
   "metadata": {},
   "outputs": [
    {
     "data": {
      "image/png": "[encoded data removed]",
      "text/plain": [
       "<Figure size 864x360 with 1 Axes>"
      ]
     },
     "metadata": {
      "needs_background": "light"
     },
     "output_type": "display_data"
    }
   ],
   "source": [
    "#Checking for number of daily reviews\n",
    "\n",
    "df_daily = data.sort_values(by = 'review_time').resample('D', on = 'review_time').count()\n",
    "df_daily.head()\n",
    "\n",
    "plt.figure(figsize = (12,5))\n",
    "sns.scatterplot(y =df_daily.review_overall, x = df_daily.index)\n",
    "plt.title(\"Number of daily reviews\")\n",
    "plt.xlabel(\"Review time\");plt.ylabel(\"Number of reviews per day\")\n",
    "plt.show()"
   ]
  },
  {
   "cell_type": "markdown",
   "metadata": {},
   "source": [
    "Not many beer reviews till year 2001. So removing them  from analysis"
   ]
  },
  {
   "cell_type": "code",
   "execution_count": 10,
   "metadata": {},
   "outputs": [],
   "source": [
    "df = data[data.review_time.dt.year >= 2001].copy()"
   ]
  },
  {
   "cell_type": "markdown",
   "metadata": {},
   "source": [
    "#### Checking for distribution of numerical variables\n",
    "Beer ID and Brewery ID are ID columns. So will treat them as categorical"
   ]
  },
  {
   "cell_type": "code",
   "execution_count": 11,
   "metadata": {},
   "outputs": [
    {
     "data": {
      "image/png": "[encoded data removed]",
      "text/plain": [
       "<Figure size 720x360 with 2 Axes>"
      ]
     },
     "metadata": {
      "needs_background": "light"
     },
     "output_type": "display_data"
    }
   ],
   "source": [
    "# Check for review overall\n",
    "fig, ax = plt.subplots(1,2, figsize = (10,5))\n",
    "\n",
    "sns.distplot(df.review_overall, ax = ax[0], kde = False)\n",
    "ax[0].set_title('Counts of review overall')\n",
    "\n",
    "sns.boxplot(df.review_overall, ax = ax[1], orient = 'v')\n",
    "ax[1].set_title('Counts of review overall')\n",
    "plt.show()"
   ]
  },
  {
   "cell_type": "markdown",
   "metadata": {},
   "source": [
    "Most beers have a high ratings.. Will look at lower rated for some analysis"
   ]
  },
  {
   "cell_type": "code",
   "execution_count": 12,
   "metadata": {
    "scrolled": true
   },
   "outputs": [
    {
     "data": {
      "image/png": "[encoded data removed]",
      "text/plain": [
       "<Figure size 1440x360 with 4 Axes>"
      ]
     },
     "metadata": {
      "needs_background": "light"
     },
     "output_type": "display_data"
    }
   ],
   "source": [
    "#Checking for types of reviews and their counts\n",
    "\n",
    "fig, ax = plt.subplots(1,4, figsize = (20,5))\n",
    "i = 0\n",
    "for review in ['review_aroma','review_appearance', 'review_palate', 'review_taste']:\n",
    "    sns.distplot(df[review], ax = ax[i], kde = False)\n",
    "    ax[i].set_title('Counts of {}'.format(review))\n",
    "    i += 1"
   ]
  },
  {
   "cell_type": "markdown",
   "metadata": {},
   "source": [
    "##### Looks like most reivewers have high opinion for appearances and palate. Taste and aroma are more spread out."
   ]
  },
  {
   "cell_type": "code",
   "execution_count": 13,
   "metadata": {},
   "outputs": [
    {
     "data": {
      "image/png": "[encoded data removed]",
      "text/plain": [
       "<Figure size 1080x360 with 4 Axes>"
      ]
     },
     "metadata": {
      "needs_background": "light"
     },
     "output_type": "display_data"
    }
   ],
   "source": [
    "## Checking the distribution through boxplots\n",
    "fig, ax = plt.subplots(1,4, figsize = (15,5))\n",
    "fig.suptitle(\"BoxPlot of individual review types\")\n",
    "i = 0\n",
    "for review in ['review_aroma','review_appearance', 'review_palate', 'review_taste']:\n",
    "    sns.boxplot(df[review], ax = ax[i], orient = 'v')\n",
    "    ax[i].set_title('Boxplot of {}'.format(review))\n",
    "    i += 1"
   ]
  },
  {
   "cell_type": "markdown",
   "metadata": {},
   "source": [
    "#### We can see taste is very the most varied among all kind of reviews. Aroma and Palate almost mirror each other"
   ]
  },
  {
   "cell_type": "code",
   "execution_count": 14,
   "metadata": {},
   "outputs": [
    {
     "data": {
      "text/plain": [
       "Text(0.5, 1.0, 'Boxplot of beer ABV')"
      ]
     },
     "execution_count": 14,
     "metadata": {},
     "output_type": "execute_result"
    },
    {
     "data": {
      "image/png": "[encoded data removed]",
      "text/plain": [
       "<Figure size 720x360 with 2 Axes>"
      ]
     },
     "metadata": {
      "needs_background": "light"
     },
     "output_type": "display_data"
    }
   ],
   "source": [
    "## Checking for ABV\n",
    "fig, ax = plt.subplots(1,2, figsize = (10,5))\n",
    "\n",
    "#Removing null values for distribution plot\n",
    "sns.distplot(df[df.beer_abv.notna()].beer_abv, ax = ax[0], kde = False)\n",
    "ax[0].set_title('Distribution of beer ABV')\n",
    "\n",
    "sns.boxplot(df.beer_abv, ax = ax[1], orient = 'v')\n",
    "ax[1].set_title('Boxplot of beer ABV')"
   ]
  },
  {
   "cell_type": "markdown",
   "metadata": {},
   "source": [
    "Looks like there are some special beers with very high ABV. Though most beers are near the 5% ABV"
   ]
  },
  {
   "cell_type": "code",
   "execution_count": 15,
   "metadata": {},
   "outputs": [
    {
     "data": {
      "text/plain": [
       "<matplotlib.axes._subplots.AxesSubplot at 0x21d00031fd0>"
      ]
     },
     "execution_count": 15,
     "metadata": {},
     "output_type": "execute_result"
    },
    {
     "data": {
      "image/png": "[encoded data removed]",
      "text/plain": [
       "<Figure size 432x288 with 1 Axes>"
      ]
     },
     "metadata": {
      "needs_background": "light"
     },
     "output_type": "display_data"
    }
   ],
   "source": [
    "##Checking relationship of ABV with overall ratings\n",
    "\n",
    "sns.scatterplot(x = 'beer_abv', y = 'review_overall', data = df )"
   ]
  },
  {
   "cell_type": "code",
   "execution_count": 16,
   "metadata": {},
   "outputs": [
    {
     "data": {
      "text/plain": [
       "<seaborn.axisgrid.PairGrid at 0x21d017e01d0>"
      ]
     },
     "execution_count": 16,
     "metadata": {},
     "output_type": "execute_result"
    },
    {
     "data": {
      "image/png": "[encoded data removed]",
      "text/plain": [
       "<Figure size 900x900 with 30 Axes>"
      ]
     },
     "metadata": {
      "needs_background": "light"
     },
     "output_type": "display_data"
    }
   ],
   "source": [
    "## Creating a pair plot of all numeric variables\n",
    "sns.pairplot(df[['review_overall','review_aroma','review_appearance', 'review_palate', 'review_taste']])"
   ]
  },
  {
   "cell_type": "markdown",
   "metadata": {},
   "source": [
    "Pair plot is not a whole lot informative"
   ]
  },
  {
   "cell_type": "markdown",
   "metadata": {},
   "source": [
    "## Checking for categorical variables"
   ]
  },
  {
   "cell_type": "code",
   "execution_count": 17,
   "metadata": {},
   "outputs": [
    {
     "name": "stdout",
     "output_type": "stream",
     "text": [
      "['brewery_name', 'review_profilename', 'beer_style', 'beer_name']\n"
     ]
    }
   ],
   "source": [
    "dtypes = dict(df.dtypes)\n",
    "categorical_vars = [var for var in dtypes.keys() if dtypes[var] =='O']\n",
    "print(categorical_vars)\n",
    "\n",
    "## Adding brewery ID and beer ID to categorical vars\n",
    "categorical_vars2 = categorical_vars + ['brewery_id','beer_beerid']"
   ]
  },
  {
   "cell_type": "code",
   "execution_count": 18,
   "metadata": {},
   "outputs": [
    {
     "name": "stdout",
     "output_type": "stream",
     "text": [
      "Number of unique brewery_name: 5738\n",
      "Number of unique review_profilename: 33387\n",
      "Number of unique beer_style: 104\n",
      "Number of unique beer_name: 56779\n",
      "Number of unique brewery_id: 5836\n",
      "Number of unique beer_beerid: 65959\n"
     ]
    }
   ],
   "source": [
    "for var in categorical_vars2:\n",
    "    print(\"Number of unique {}: {}\".format(var, df[var].nunique()))"
   ]
  },
  {
   "cell_type": "code",
   "execution_count": 19,
   "metadata": {},
   "outputs": [
    {
     "data": {
      "text/plain": [
       "beer_name\n",
       "Sledgehammer Stout    2\n",
       "Galena IPA            2\n",
       "Jingle Ale            2\n",
       "Harvest Pils          2\n",
       "Icarus                2\n",
       "dtype: int64"
      ]
     },
     "execution_count": 19,
     "metadata": {},
     "output_type": "execute_result"
    }
   ],
   "source": [
    "x = data.groupby('beer_name').apply(lambda x: x.beer_beerid.nunique())\n",
    "x[x>1].sample(5)"
   ]
  },
  {
   "cell_type": "code",
   "execution_count": 20,
   "metadata": {},
   "outputs": [
    {
     "data": {
      "text/html": [
       "<div>\n",
       "<style scoped>\n",
       "    .dataframe tbody tr th:only-of-type {\n",
       "        vertical-align: middle;\n",
       "    }\n",
       "\n",
       "    .dataframe tbody tr th {\n",
       "        vertical-align: top;\n",
       "    }\n",
       "\n",
       "    .dataframe thead th {\n",
       "        text-align: right;\n",
       "    }\n",
       "</style>\n",
       "<table border=\"1\" class=\"dataframe\">\n",
       "  <thead>\n",
       "    <tr style=\"text-align: right;\">\n",
       "      <th></th>\n",
       "      <th>brewery_id</th>\n",
       "      <th>brewery_name</th>\n",
       "      <th>review_time</th>\n",
       "      <th>review_overall</th>\n",
       "      <th>review_aroma</th>\n",
       "      <th>review_appearance</th>\n",
       "      <th>review_profilename</th>\n",
       "      <th>beer_style</th>\n",
       "      <th>review_palate</th>\n",
       "      <th>review_taste</th>\n",
       "      <th>beer_name</th>\n",
       "      <th>beer_abv</th>\n",
       "      <th>beer_beerid</th>\n",
       "    </tr>\n",
       "  </thead>\n",
       "  <tbody>\n",
       "    <tr>\n",
       "      <th>14959</th>\n",
       "      <td>14</td>\n",
       "      <td>Cambridge Brewing Company</td>\n",
       "      <td>2009-03-26 18:51:57</td>\n",
       "      <td>3.5</td>\n",
       "      <td>4.5</td>\n",
       "      <td>3.0</td>\n",
       "      <td>EPICAC</td>\n",
       "      <td>Dubbel</td>\n",
       "      <td>4.0</td>\n",
       "      <td>4.5</td>\n",
       "      <td>Abbey Normal</td>\n",
       "      <td>7.6</td>\n",
       "      <td>2788</td>\n",
       "    </tr>\n",
       "    <tr>\n",
       "      <th>14960</th>\n",
       "      <td>14</td>\n",
       "      <td>Cambridge Brewing Company</td>\n",
       "      <td>2009-02-26 21:40:31</td>\n",
       "      <td>4.0</td>\n",
       "      <td>3.5</td>\n",
       "      <td>3.5</td>\n",
       "      <td>IBUnit63</td>\n",
       "      <td>Dubbel</td>\n",
       "      <td>4.0</td>\n",
       "      <td>4.0</td>\n",
       "      <td>Abbey Normal</td>\n",
       "      <td>7.6</td>\n",
       "      <td>2788</td>\n",
       "    </tr>\n",
       "    <tr>\n",
       "      <th>14961</th>\n",
       "      <td>14</td>\n",
       "      <td>Cambridge Brewing Company</td>\n",
       "      <td>2002-02-17 19:02:45</td>\n",
       "      <td>4.5</td>\n",
       "      <td>4.0</td>\n",
       "      <td>3.5</td>\n",
       "      <td>Jason</td>\n",
       "      <td>Dubbel</td>\n",
       "      <td>4.5</td>\n",
       "      <td>4.0</td>\n",
       "      <td>Abbey Normal</td>\n",
       "      <td>7.6</td>\n",
       "      <td>2788</td>\n",
       "    </tr>\n",
       "    <tr>\n",
       "      <th>14962</th>\n",
       "      <td>14</td>\n",
       "      <td>Cambridge Brewing Company</td>\n",
       "      <td>2002-02-17 10:52:38</td>\n",
       "      <td>4.0</td>\n",
       "      <td>4.0</td>\n",
       "      <td>2.5</td>\n",
       "      <td>Todd</td>\n",
       "      <td>Dubbel</td>\n",
       "      <td>4.0</td>\n",
       "      <td>4.0</td>\n",
       "      <td>Abbey Normal</td>\n",
       "      <td>7.6</td>\n",
       "      <td>2788</td>\n",
       "    </tr>\n",
       "    <tr>\n",
       "      <th>14963</th>\n",
       "      <td>14</td>\n",
       "      <td>Cambridge Brewing Company</td>\n",
       "      <td>2002-02-16 20:01:24</td>\n",
       "      <td>4.0</td>\n",
       "      <td>4.0</td>\n",
       "      <td>4.5</td>\n",
       "      <td>Bierman9</td>\n",
       "      <td>Dubbel</td>\n",
       "      <td>4.0</td>\n",
       "      <td>4.0</td>\n",
       "      <td>Abbey Normal</td>\n",
       "      <td>7.6</td>\n",
       "      <td>2788</td>\n",
       "    </tr>\n",
       "    <tr>\n",
       "      <th>256608</th>\n",
       "      <td>3042</td>\n",
       "      <td>BJ's Restaurant &amp; Brewhouse</td>\n",
       "      <td>2011-04-19 23:18:29</td>\n",
       "      <td>3.5</td>\n",
       "      <td>3.5</td>\n",
       "      <td>3.5</td>\n",
       "      <td>tbern007</td>\n",
       "      <td>Dubbel</td>\n",
       "      <td>3.5</td>\n",
       "      <td>3.5</td>\n",
       "      <td>Abbey Normal</td>\n",
       "      <td>6.6</td>\n",
       "      <td>67960</td>\n",
       "    </tr>\n",
       "    <tr>\n",
       "      <th>256609</th>\n",
       "      <td>3042</td>\n",
       "      <td>BJ's Restaurant &amp; Brewhouse</td>\n",
       "      <td>2011-04-09 20:50:00</td>\n",
       "      <td>3.5</td>\n",
       "      <td>3.5</td>\n",
       "      <td>4.0</td>\n",
       "      <td>BretSikkink</td>\n",
       "      <td>Dubbel</td>\n",
       "      <td>3.5</td>\n",
       "      <td>3.5</td>\n",
       "      <td>Abbey Normal</td>\n",
       "      <td>6.6</td>\n",
       "      <td>67960</td>\n",
       "    </tr>\n",
       "    <tr>\n",
       "      <th>327427</th>\n",
       "      <td>1912</td>\n",
       "      <td>Milwaukee Ale House</td>\n",
       "      <td>2009-11-01 12:45:19</td>\n",
       "      <td>4.0</td>\n",
       "      <td>3.5</td>\n",
       "      <td>3.5</td>\n",
       "      <td>nsmartell</td>\n",
       "      <td>Belgian Strong Pale Ale</td>\n",
       "      <td>4.5</td>\n",
       "      <td>4.0</td>\n",
       "      <td>Abbey Normal</td>\n",
       "      <td>7.3</td>\n",
       "      <td>53829</td>\n",
       "    </tr>\n",
       "    <tr>\n",
       "      <th>394071</th>\n",
       "      <td>2711</td>\n",
       "      <td>BJ's Restaurant &amp; Brewery</td>\n",
       "      <td>2011-04-19 15:30:57</td>\n",
       "      <td>3.5</td>\n",
       "      <td>4.0</td>\n",
       "      <td>4.0</td>\n",
       "      <td>womencantsail</td>\n",
       "      <td>Dubbel</td>\n",
       "      <td>4.0</td>\n",
       "      <td>3.0</td>\n",
       "      <td>Abbey Normal</td>\n",
       "      <td>6.6</td>\n",
       "      <td>67912</td>\n",
       "    </tr>\n",
       "    <tr>\n",
       "      <th>685369</th>\n",
       "      <td>1340</td>\n",
       "      <td>Gaslight Brewery &amp; Restaurant</td>\n",
       "      <td>2011-06-19 01:44:05</td>\n",
       "      <td>3.0</td>\n",
       "      <td>3.0</td>\n",
       "      <td>3.5</td>\n",
       "      <td>Rifugium</td>\n",
       "      <td>Dubbel</td>\n",
       "      <td>3.0</td>\n",
       "      <td>3.0</td>\n",
       "      <td>Abbey Normal</td>\n",
       "      <td>6.9</td>\n",
       "      <td>36981</td>\n",
       "    </tr>\n",
       "  </tbody>\n",
       "</table>\n",
       "</div>"
      ],
      "text/plain": [
       "        brewery_id                   brewery_name         review_time  \\\n",
       "14959           14      Cambridge Brewing Company 2009-03-26 18:51:57   \n",
       "14960           14      Cambridge Brewing Company 2009-02-26 21:40:31   \n",
       "14961           14      Cambridge Brewing Company 2002-02-17 19:02:45   \n",
       "14962           14      Cambridge Brewing Company 2002-02-17 10:52:38   \n",
       "14963           14      Cambridge Brewing Company 2002-02-16 20:01:24   \n",
       "256608        3042    BJ's Restaurant & Brewhouse 2011-04-19 23:18:29   \n",
       "256609        3042    BJ's Restaurant & Brewhouse 2011-04-09 20:50:00   \n",
       "327427        1912            Milwaukee Ale House 2009-11-01 12:45:19   \n",
       "394071        2711      BJ's Restaurant & Brewery 2011-04-19 15:30:57   \n",
       "685369        1340  Gaslight Brewery & Restaurant 2011-06-19 01:44:05   \n",
       "\n",
       "        review_overall  review_aroma  review_appearance review_profilename  \\\n",
       "14959              3.5           4.5                3.0             EPICAC   \n",
       "14960              4.0           3.5                3.5           IBUnit63   \n",
       "14961              4.5           4.0                3.5              Jason   \n",
       "14962              4.0           4.0                2.5               Todd   \n",
       "14963              4.0           4.0                4.5           Bierman9   \n",
       "256608             3.5           3.5                3.5           tbern007   \n",
       "256609             3.5           3.5                4.0        BretSikkink   \n",
       "327427             4.0           3.5                3.5          nsmartell   \n",
       "394071             3.5           4.0                4.0      womencantsail   \n",
       "685369             3.0           3.0                3.5           Rifugium   \n",
       "\n",
       "                     beer_style  review_palate  review_taste     beer_name  \\\n",
       "14959                    Dubbel            4.0           4.5  Abbey Normal   \n",
       "14960                    Dubbel            4.0           4.0  Abbey Normal   \n",
       "14961                    Dubbel            4.5           4.0  Abbey Normal   \n",
       "14962                    Dubbel            4.0           4.0  Abbey Normal   \n",
       "14963                    Dubbel            4.0           4.0  Abbey Normal   \n",
       "256608                   Dubbel            3.5           3.5  Abbey Normal   \n",
       "256609                   Dubbel            3.5           3.5  Abbey Normal   \n",
       "327427  Belgian Strong Pale Ale            4.5           4.0  Abbey Normal   \n",
       "394071                   Dubbel            4.0           3.0  Abbey Normal   \n",
       "685369                   Dubbel            3.0           3.0  Abbey Normal   \n",
       "\n",
       "        beer_abv  beer_beerid  \n",
       "14959        7.6         2788  \n",
       "14960        7.6         2788  \n",
       "14961        7.6         2788  \n",
       "14962        7.6         2788  \n",
       "14963        7.6         2788  \n",
       "256608       6.6        67960  \n",
       "256609       6.6        67960  \n",
       "327427       7.3        53829  \n",
       "394071       6.6        67912  \n",
       "685369       6.9        36981  "
      ]
     },
     "execution_count": 20,
     "metadata": {},
     "output_type": "execute_result"
    }
   ],
   "source": [
    "#Taking one beer with 11 unique beer IDs\n",
    "data[data.beer_name == 'Abbey Normal'].head(10)"
   ]
  },
  {
   "cell_type": "markdown",
   "metadata": {},
   "source": [
    "The number of unique brewery ID and Brewery Name don't match. More IDs than name. Could be because some breweries have common name or just data is not clean. We won't worry about it this anlaysis and use Brewery name as **unique brewery identifier**. \n",
    "\n",
    "Same goes for Beer name and Beer ID. The beer ID and Brewery ID are not quite matching with other data. Hence will use beer name as our **unique identifier of beer**."
   ]
  },
  {
   "cell_type": "code",
   "execution_count": 21,
   "metadata": {},
   "outputs": [
    {
     "name": "stdout",
     "output_type": "stream",
     "text": [
      "Top 5 most number of reviewed:\n"
     ]
    },
    {
     "data": {
      "image/png": "[encoded data removed]",
      "text/plain": [
       "<Figure size 504x864 with 4 Axes>"
      ]
     },
     "metadata": {
      "needs_background": "light"
     },
     "output_type": "display_data"
    }
   ],
   "source": [
    "print(\"Top 5 most number of reviewed:\")\n",
    "fig, ax = plt.subplots(len(categorical_vars),1, figsize = (7,12))\n",
    "fig.tight_layout()\n",
    "\n",
    "i = 0\n",
    "for var in categorical_vars:\n",
    "    df[var].value_counts().head().sort_values().plot(kind = 'barh', ax = ax[i], alpha = 0.8)\n",
    "    ax[i].set_title(var, loc = 'center');ax[i].tick_params(axis = 'y', labelsize = 12)\n",
    "    i += 1\n"
   ]
  },
  {
   "cell_type": "markdown",
   "metadata": {},
   "source": [
    "- Boston Beer Company is the most reviewed brewery.\n",
    "- Nortyyorksammy is a prolific reviewer of beers.\n",
    "- IPA seems to be having the most fan following and reviews.\n",
    "- 90 Minute IPA is the most reviewed beer"
   ]
  },
  {
   "cell_type": "markdown",
   "metadata": {},
   "source": [
    "#### Now checking for beers with best overall reviews\n",
    "\n",
    "Starting with brewery"
   ]
  },
  {
   "cell_type": "code",
   "execution_count": 22,
   "metadata": {},
   "outputs": [
    {
     "data": {
      "text/html": [
       "<div>\n",
       "<style scoped>\n",
       "    .dataframe tbody tr th:only-of-type {\n",
       "        vertical-align: middle;\n",
       "    }\n",
       "\n",
       "    .dataframe tbody tr th {\n",
       "        vertical-align: top;\n",
       "    }\n",
       "\n",
       "    .dataframe thead th {\n",
       "        text-align: right;\n",
       "    }\n",
       "</style>\n",
       "<table border=\"1\" class=\"dataframe\">\n",
       "  <thead>\n",
       "    <tr style=\"text-align: right;\">\n",
       "      <th></th>\n",
       "      <th>brewery_id</th>\n",
       "      <th>review_overall</th>\n",
       "      <th>review_aroma</th>\n",
       "      <th>review_appearance</th>\n",
       "      <th>review_palate</th>\n",
       "      <th>review_taste</th>\n",
       "      <th>beer_abv</th>\n",
       "      <th>beer_beerid</th>\n",
       "    </tr>\n",
       "    <tr>\n",
       "      <th>brewery_name</th>\n",
       "      <th></th>\n",
       "      <th></th>\n",
       "      <th></th>\n",
       "      <th></th>\n",
       "      <th></th>\n",
       "      <th></th>\n",
       "      <th></th>\n",
       "      <th></th>\n",
       "    </tr>\n",
       "  </thead>\n",
       "  <tbody>\n",
       "    <tr>\n",
       "      <th>Round Guys Brewing Company</th>\n",
       "      <td>27844.0</td>\n",
       "      <td>5.0</td>\n",
       "      <td>4.00</td>\n",
       "      <td>4.00</td>\n",
       "      <td>5.00</td>\n",
       "      <td>4.5</td>\n",
       "      <td>4.0</td>\n",
       "      <td>76354.0</td>\n",
       "    </tr>\n",
       "    <tr>\n",
       "      <th>Hosokawa Sake Brewing Co., Ltd.</th>\n",
       "      <td>13866.0</td>\n",
       "      <td>5.0</td>\n",
       "      <td>3.75</td>\n",
       "      <td>3.75</td>\n",
       "      <td>3.75</td>\n",
       "      <td>4.0</td>\n",
       "      <td>5.0</td>\n",
       "      <td>30627.5</td>\n",
       "    </tr>\n",
       "    <tr>\n",
       "      <th>Restaurant Flieger Bräu</th>\n",
       "      <td>3693.0</td>\n",
       "      <td>5.0</td>\n",
       "      <td>4.00</td>\n",
       "      <td>4.50</td>\n",
       "      <td>4.00</td>\n",
       "      <td>4.5</td>\n",
       "      <td>NaN</td>\n",
       "      <td>8553.0</td>\n",
       "    </tr>\n",
       "    <tr>\n",
       "      <th>Thai Me Up</th>\n",
       "      <td>24056.0</td>\n",
       "      <td>5.0</td>\n",
       "      <td>5.00</td>\n",
       "      <td>5.00</td>\n",
       "      <td>4.50</td>\n",
       "      <td>5.0</td>\n",
       "      <td>7.5</td>\n",
       "      <td>62740.0</td>\n",
       "    </tr>\n",
       "    <tr>\n",
       "      <th>Brauerei Gasthof Pfister GmbH</th>\n",
       "      <td>15828.0</td>\n",
       "      <td>5.0</td>\n",
       "      <td>3.00</td>\n",
       "      <td>5.00</td>\n",
       "      <td>4.50</td>\n",
       "      <td>4.5</td>\n",
       "      <td>4.6</td>\n",
       "      <td>62263.0</td>\n",
       "    </tr>\n",
       "    <tr>\n",
       "      <th>Binghams Brewery</th>\n",
       "      <td>25943.0</td>\n",
       "      <td>5.0</td>\n",
       "      <td>5.00</td>\n",
       "      <td>4.50</td>\n",
       "      <td>4.50</td>\n",
       "      <td>5.0</td>\n",
       "      <td>5.0</td>\n",
       "      <td>70778.0</td>\n",
       "    </tr>\n",
       "    <tr>\n",
       "      <th>Weissbräu Kösslarn</th>\n",
       "      <td>6225.0</td>\n",
       "      <td>5.0</td>\n",
       "      <td>4.50</td>\n",
       "      <td>5.00</td>\n",
       "      <td>5.00</td>\n",
       "      <td>4.5</td>\n",
       "      <td>4.6</td>\n",
       "      <td>15502.0</td>\n",
       "    </tr>\n",
       "    <tr>\n",
       "      <th>Brauerei Gundel</th>\n",
       "      <td>5825.0</td>\n",
       "      <td>5.0</td>\n",
       "      <td>4.50</td>\n",
       "      <td>5.00</td>\n",
       "      <td>5.00</td>\n",
       "      <td>4.5</td>\n",
       "      <td>5.2</td>\n",
       "      <td>69880.0</td>\n",
       "    </tr>\n",
       "    <tr>\n",
       "      <th>Paulaner Brauhaus (Pulana Pijiu Fang)</th>\n",
       "      <td>3625.0</td>\n",
       "      <td>5.0</td>\n",
       "      <td>4.50</td>\n",
       "      <td>4.50</td>\n",
       "      <td>4.50</td>\n",
       "      <td>4.5</td>\n",
       "      <td>NaN</td>\n",
       "      <td>45620.0</td>\n",
       "    </tr>\n",
       "    <tr>\n",
       "      <th>Liebhart's Privatbrauerei Detmold</th>\n",
       "      <td>26984.0</td>\n",
       "      <td>5.0</td>\n",
       "      <td>3.50</td>\n",
       "      <td>4.00</td>\n",
       "      <td>3.50</td>\n",
       "      <td>3.5</td>\n",
       "      <td>4.8</td>\n",
       "      <td>74514.0</td>\n",
       "    </tr>\n",
       "  </tbody>\n",
       "</table>\n",
       "</div>"
      ],
      "text/plain": [
       "                                       brewery_id  review_overall  \\\n",
       "brewery_name                                                        \n",
       "Round Guys Brewing Company                27844.0             5.0   \n",
       "Hosokawa Sake Brewing Co., Ltd.           13866.0             5.0   \n",
       "Restaurant Flieger Bräu                    3693.0             5.0   \n",
       "Thai Me Up                                24056.0             5.0   \n",
       "Brauerei Gasthof Pfister GmbH             15828.0             5.0   \n",
       "Binghams Brewery                          25943.0             5.0   \n",
       "Weissbräu Kösslarn                         6225.0             5.0   \n",
       "Brauerei Gundel                            5825.0             5.0   \n",
       "Paulaner Brauhaus (Pulana Pijiu Fang)      3625.0             5.0   \n",
       "Liebhart's Privatbrauerei Detmold         26984.0             5.0   \n",
       "\n",
       "                                       review_aroma  review_appearance  \\\n",
       "brewery_name                                                             \n",
       "Round Guys Brewing Company                     4.00               4.00   \n",
       "Hosokawa Sake Brewing Co., Ltd.                3.75               3.75   \n",
       "Restaurant Flieger Bräu                        4.00               4.50   \n",
       "Thai Me Up                                     5.00               5.00   \n",
       "Brauerei Gasthof Pfister GmbH                  3.00               5.00   \n",
       "Binghams Brewery                               5.00               4.50   \n",
       "Weissbräu Kösslarn                             4.50               5.00   \n",
       "Brauerei Gundel                                4.50               5.00   \n",
       "Paulaner Brauhaus (Pulana Pijiu Fang)          4.50               4.50   \n",
       "Liebhart's Privatbrauerei Detmold              3.50               4.00   \n",
       "\n",
       "                                       review_palate  review_taste  beer_abv  \\\n",
       "brewery_name                                                                   \n",
       "Round Guys Brewing Company                      5.00           4.5       4.0   \n",
       "Hosokawa Sake Brewing Co., Ltd.                 3.75           4.0       5.0   \n",
       "Restaurant Flieger Bräu                         4.00           4.5       NaN   \n",
       "Thai Me Up                                      4.50           5.0       7.5   \n",
       "Brauerei Gasthof Pfister GmbH                   4.50           4.5       4.6   \n",
       "Binghams Brewery                                4.50           5.0       5.0   \n",
       "Weissbräu Kösslarn                              5.00           4.5       4.6   \n",
       "Brauerei Gundel                                 5.00           4.5       5.2   \n",
       "Paulaner Brauhaus (Pulana Pijiu Fang)           4.50           4.5       NaN   \n",
       "Liebhart's Privatbrauerei Detmold               3.50           3.5       4.8   \n",
       "\n",
       "                                       beer_beerid  \n",
       "brewery_name                                        \n",
       "Round Guys Brewing Company                 76354.0  \n",
       "Hosokawa Sake Brewing Co., Ltd.            30627.5  \n",
       "Restaurant Flieger Bräu                     8553.0  \n",
       "Thai Me Up                                 62740.0  \n",
       "Brauerei Gasthof Pfister GmbH              62263.0  \n",
       "Binghams Brewery                           70778.0  \n",
       "Weissbräu Kösslarn                         15502.0  \n",
       "Brauerei Gundel                            69880.0  \n",
       "Paulaner Brauhaus (Pulana Pijiu Fang)      45620.0  \n",
       "Liebhart's Privatbrauerei Detmold          74514.0  "
      ]
     },
     "execution_count": 22,
     "metadata": {},
     "output_type": "execute_result"
    }
   ],
   "source": [
    "df.groupby('brewery_name').mean().sort_values(by ='review_overall', ascending = False).head(10)"
   ]
  },
  {
   "cell_type": "markdown",
   "metadata": {},
   "source": [
    "More than 10 breweries have the perfect rating. However, this can be skewed as it doesn't contain information about how many reviewes a brewery has received. Adding the number of reviews also in the analysis"
   ]
  },
  {
   "cell_type": "code",
   "execution_count": 23,
   "metadata": {},
   "outputs": [
    {
     "data": {
      "text/html": [
       "<div>\n",
       "<style scoped>\n",
       "    .dataframe tbody tr th:only-of-type {\n",
       "        vertical-align: middle;\n",
       "    }\n",
       "\n",
       "    .dataframe tbody tr th {\n",
       "        vertical-align: top;\n",
       "    }\n",
       "\n",
       "    .dataframe thead tr th {\n",
       "        text-align: left;\n",
       "    }\n",
       "</style>\n",
       "<table border=\"1\" class=\"dataframe\">\n",
       "  <thead>\n",
       "    <tr>\n",
       "      <th></th>\n",
       "      <th>brewery_name</th>\n",
       "      <th colspan=\"2\" halign=\"left\">review_overall</th>\n",
       "      <th>review_taste</th>\n",
       "    </tr>\n",
       "    <tr>\n",
       "      <th></th>\n",
       "      <th></th>\n",
       "      <th>mean</th>\n",
       "      <th>count</th>\n",
       "      <th>mean</th>\n",
       "    </tr>\n",
       "  </thead>\n",
       "  <tbody>\n",
       "    <tr>\n",
       "      <th>4517</th>\n",
       "      <td>Round Guys Brewing Company</td>\n",
       "      <td>5.0</td>\n",
       "      <td>1</td>\n",
       "      <td>4.5</td>\n",
       "    </tr>\n",
       "    <tr>\n",
       "      <th>2787</th>\n",
       "      <td>Hosokawa Sake Brewing Co., Ltd.</td>\n",
       "      <td>5.0</td>\n",
       "      <td>2</td>\n",
       "      <td>4.0</td>\n",
       "    </tr>\n",
       "    <tr>\n",
       "      <th>4421</th>\n",
       "      <td>Restaurant Flieger Bräu</td>\n",
       "      <td>5.0</td>\n",
       "      <td>2</td>\n",
       "      <td>4.5</td>\n",
       "    </tr>\n",
       "    <tr>\n",
       "      <th>5081</th>\n",
       "      <td>Thai Me Up</td>\n",
       "      <td>5.0</td>\n",
       "      <td>1</td>\n",
       "      <td>5.0</td>\n",
       "    </tr>\n",
       "    <tr>\n",
       "      <th>999</th>\n",
       "      <td>Brauerei Gasthof Pfister GmbH</td>\n",
       "      <td>5.0</td>\n",
       "      <td>1</td>\n",
       "      <td>4.5</td>\n",
       "    </tr>\n",
       "  </tbody>\n",
       "</table>\n",
       "</div>"
      ],
      "text/plain": [
       "                         brewery_name review_overall       review_taste\n",
       "                                                mean count         mean\n",
       "4517       Round Guys Brewing Company            5.0     1          4.5\n",
       "2787  Hosokawa Sake Brewing Co., Ltd.            5.0     2          4.0\n",
       "4421          Restaurant Flieger Bräu            5.0     2          4.5\n",
       "5081                       Thai Me Up            5.0     1          5.0\n",
       "999     Brauerei Gasthof Pfister GmbH            5.0     1          4.5"
      ]
     },
     "execution_count": 23,
     "metadata": {},
     "output_type": "execute_result"
    }
   ],
   "source": [
    "df.groupby('brewery_name', as_index = False).agg({'review_overall' :['mean', 'count'], 'review_taste': 'mean'}).sort_values(by = [('review_overall', 'mean')], ascending = False).head()"
   ]
  },
  {
   "cell_type": "markdown",
   "metadata": {},
   "source": [
    "**As can be seen, most highly rated breweries have very less reviews, thereby skewing the distribution. To address this, will look only at breweries that have received atleast \"100\" reviews.**"
   ]
  },
  {
   "cell_type": "code",
   "execution_count": 24,
   "metadata": {},
   "outputs": [
    {
     "name": "stdout",
     "output_type": "stream",
     "text": [
      "Top 5 breweries with highest average overall review and number of reviews(>=100): \n"
     ]
    },
    {
     "data": {
      "text/html": [
       "<div>\n",
       "<style scoped>\n",
       "    .dataframe tbody tr th:only-of-type {\n",
       "        vertical-align: middle;\n",
       "    }\n",
       "\n",
       "    .dataframe tbody tr th {\n",
       "        vertical-align: top;\n",
       "    }\n",
       "\n",
       "    .dataframe thead tr th {\n",
       "        text-align: left;\n",
       "    }\n",
       "\n",
       "    .dataframe thead tr:last-of-type th {\n",
       "        text-align: right;\n",
       "    }\n",
       "</style>\n",
       "<table border=\"1\" class=\"dataframe\">\n",
       "  <thead>\n",
       "    <tr>\n",
       "      <th></th>\n",
       "      <th colspan=\"2\" halign=\"left\">review_overall</th>\n",
       "    </tr>\n",
       "    <tr>\n",
       "      <th></th>\n",
       "      <th>mean</th>\n",
       "      <th>count</th>\n",
       "    </tr>\n",
       "    <tr>\n",
       "      <th>brewery_name</th>\n",
       "      <th></th>\n",
       "      <th></th>\n",
       "    </tr>\n",
       "  </thead>\n",
       "  <tbody>\n",
       "    <tr>\n",
       "      <th>The Alchemist</th>\n",
       "      <td>4.582543</td>\n",
       "      <td>527</td>\n",
       "    </tr>\n",
       "    <tr>\n",
       "      <th>Brouwerij Westvleteren (Sint-Sixtusabdij van Westvleteren)</th>\n",
       "      <td>4.544996</td>\n",
       "      <td>2378</td>\n",
       "    </tr>\n",
       "    <tr>\n",
       "      <th>Russian River Brewing Company</th>\n",
       "      <td>4.373884</td>\n",
       "      <td>11311</td>\n",
       "    </tr>\n",
       "    <tr>\n",
       "      <th>Närke Kulturbryggeri AB</th>\n",
       "      <td>4.363208</td>\n",
       "      <td>212</td>\n",
       "    </tr>\n",
       "    <tr>\n",
       "      <th>Badische Staatsbrauerei Rothaus AG</th>\n",
       "      <td>4.357143</td>\n",
       "      <td>126</td>\n",
       "    </tr>\n",
       "  </tbody>\n",
       "</table>\n",
       "</div>"
      ],
      "text/plain": [
       "                                                   review_overall       \n",
       "                                                             mean  count\n",
       "brewery_name                                                            \n",
       "The Alchemist                                            4.582543    527\n",
       "Brouwerij Westvleteren (Sint-Sixtusabdij van We...       4.544996   2378\n",
       "Russian River Brewing Company                            4.373884  11311\n",
       "Närke Kulturbryggeri AB                                  4.363208    212\n",
       "Badische Staatsbrauerei Rothaus AG                       4.357143    126"
      ]
     },
     "execution_count": 24,
     "metadata": {},
     "output_type": "execute_result"
    }
   ],
   "source": [
    "def best_mean_review(dataf, group_col,target_col, min_reviews= 100):\n",
    "    \"\"\"\n",
    "    Function to get the highest valued target col groupe by group col with atleast minimum number of reviews\n",
    "    \"\"\"\n",
    "    df_col = dataf.groupby(group_col).agg({target_col :['mean', 'count']})\n",
    "    df_col = df_col[df_col.loc[:,(target_col, 'count')] >= min_reviews].sort_values(by = [(target_col, 'mean')], ascending = False)\n",
    "    return df_col\n",
    "\n",
    "print(\"Top 5 breweries with highest average overall review and number of reviews(>=100): \")\n",
    "best_mean_review(df, 'brewery_name', 'review_overall', 100).head()"
   ]
  },
  {
   "cell_type": "markdown",
   "metadata": {},
   "source": [
    "**Continuing for beer name and beer type**"
   ]
  },
  {
   "cell_type": "code",
   "execution_count": 25,
   "metadata": {},
   "outputs": [
    {
     "data": {
      "text/html": [
       "<div>\n",
       "<style scoped>\n",
       "    .dataframe tbody tr th:only-of-type {\n",
       "        vertical-align: middle;\n",
       "    }\n",
       "\n",
       "    .dataframe tbody tr th {\n",
       "        vertical-align: top;\n",
       "    }\n",
       "\n",
       "    .dataframe thead tr th {\n",
       "        text-align: left;\n",
       "    }\n",
       "\n",
       "    .dataframe thead tr:last-of-type th {\n",
       "        text-align: right;\n",
       "    }\n",
       "</style>\n",
       "<table border=\"1\" class=\"dataframe\">\n",
       "  <thead>\n",
       "    <tr>\n",
       "      <th></th>\n",
       "      <th colspan=\"2\" halign=\"left\">review_overall</th>\n",
       "    </tr>\n",
       "    <tr>\n",
       "      <th></th>\n",
       "      <th>mean</th>\n",
       "      <th>count</th>\n",
       "    </tr>\n",
       "    <tr>\n",
       "      <th>beer_name</th>\n",
       "      <th></th>\n",
       "      <th></th>\n",
       "    </tr>\n",
       "  </thead>\n",
       "  <tbody>\n",
       "    <tr>\n",
       "      <th>Citra DIPA</th>\n",
       "      <td>4.630952</td>\n",
       "      <td>252</td>\n",
       "    </tr>\n",
       "    <tr>\n",
       "      <th>Cantillon Blåbær Lambik</th>\n",
       "      <td>4.628205</td>\n",
       "      <td>156</td>\n",
       "    </tr>\n",
       "    <tr>\n",
       "      <th>Heady Topper</th>\n",
       "      <td>4.625800</td>\n",
       "      <td>469</td>\n",
       "    </tr>\n",
       "    <tr>\n",
       "      <th>Deviation - Bottleworks 9th Anniversary</th>\n",
       "      <td>4.620536</td>\n",
       "      <td>112</td>\n",
       "    </tr>\n",
       "    <tr>\n",
       "      <th>Trappist Westvleteren 12</th>\n",
       "      <td>4.617925</td>\n",
       "      <td>1272</td>\n",
       "    </tr>\n",
       "  </tbody>\n",
       "</table>\n",
       "</div>"
      ],
      "text/plain": [
       "                                        review_overall      \n",
       "                                                  mean count\n",
       "beer_name                                                   \n",
       "Citra DIPA                                    4.630952   252\n",
       "Cantillon Blåbær Lambik                       4.628205   156\n",
       "Heady Topper                                  4.625800   469\n",
       "Deviation - Bottleworks 9th Anniversary       4.620536   112\n",
       "Trappist Westvleteren 12                      4.617925  1272"
      ]
     },
     "execution_count": 25,
     "metadata": {},
     "output_type": "execute_result"
    }
   ],
   "source": [
    "best_mean_review(df, 'beer_name', 'review_overall', 100).head()"
   ]
  },
  {
   "cell_type": "code",
   "execution_count": 26,
   "metadata": {},
   "outputs": [
    {
     "data": {
      "text/html": [
       "<div>\n",
       "<style scoped>\n",
       "    .dataframe tbody tr th:only-of-type {\n",
       "        vertical-align: middle;\n",
       "    }\n",
       "\n",
       "    .dataframe tbody tr th {\n",
       "        vertical-align: top;\n",
       "    }\n",
       "\n",
       "    .dataframe thead tr th {\n",
       "        text-align: left;\n",
       "    }\n",
       "\n",
       "    .dataframe thead tr:last-of-type th {\n",
       "        text-align: right;\n",
       "    }\n",
       "</style>\n",
       "<table border=\"1\" class=\"dataframe\">\n",
       "  <thead>\n",
       "    <tr>\n",
       "      <th></th>\n",
       "      <th colspan=\"2\" halign=\"left\">review_overall</th>\n",
       "    </tr>\n",
       "    <tr>\n",
       "      <th></th>\n",
       "      <th>mean</th>\n",
       "      <th>count</th>\n",
       "    </tr>\n",
       "    <tr>\n",
       "      <th>beer_style</th>\n",
       "      <th></th>\n",
       "      <th></th>\n",
       "    </tr>\n",
       "  </thead>\n",
       "  <tbody>\n",
       "    <tr>\n",
       "      <th>American Wild Ale</th>\n",
       "      <td>4.093262</td>\n",
       "      <td>17794</td>\n",
       "    </tr>\n",
       "    <tr>\n",
       "      <th>Gueuze</th>\n",
       "      <td>4.086287</td>\n",
       "      <td>6009</td>\n",
       "    </tr>\n",
       "    <tr>\n",
       "      <th>Quadrupel (Quad)</th>\n",
       "      <td>4.071634</td>\n",
       "      <td>18085</td>\n",
       "    </tr>\n",
       "    <tr>\n",
       "      <th>Lambic - Unblended</th>\n",
       "      <td>4.048923</td>\n",
       "      <td>1114</td>\n",
       "    </tr>\n",
       "    <tr>\n",
       "      <th>American Double / Imperial Stout</th>\n",
       "      <td>4.029820</td>\n",
       "      <td>50704</td>\n",
       "    </tr>\n",
       "  </tbody>\n",
       "</table>\n",
       "</div>"
      ],
      "text/plain": [
       "                                 review_overall       \n",
       "                                           mean  count\n",
       "beer_style                                            \n",
       "American Wild Ale                      4.093262  17794\n",
       "Gueuze                                 4.086287   6009\n",
       "Quadrupel (Quad)                       4.071634  18085\n",
       "Lambic - Unblended                     4.048923   1114\n",
       "American Double / Imperial Stout       4.029820  50704"
      ]
     },
     "execution_count": 26,
     "metadata": {},
     "output_type": "execute_result"
    }
   ],
   "source": [
    "best_mean_review(df, 'beer_style', 'review_overall', 100).head()"
   ]
  },
  {
   "cell_type": "markdown",
   "metadata": {},
   "source": [
    "**As we saw The Alchemist brewery, Citra DIPA beer, and the American Wild Ale beer style are the best in their categories with atleast 100 reviews**\n",
    "\n",
    "Will quickly check the worst reviewed brewery, beer type, and beer name too"
   ]
  },
  {
   "cell_type": "code",
   "execution_count": 27,
   "metadata": {},
   "outputs": [
    {
     "name": "stdout",
     "output_type": "stream",
     "text": [
      "top 5 worst reviewed brewery, beer name, and beer style with atleast 100 reviews:\n",
      "                          review_overall      \n",
      "                                    mean count\n",
      "brewery_name                                  \n",
      "Chili Beer Co.                  1.614183   416\n",
      "Camo Brewing Company            1.956395   172\n",
      "Melanie Brewing Company         2.080769   260\n",
      "Pizza Beer Company              2.380342   117\n",
      "Green's Gluten Free Beers       2.518293   164\n",
      "                                                   review_overall      \n",
      "                                                             mean count\n",
      "beer_name                                                              \n",
      "Crazy Ed's Cave Creek Chili Beer                         1.488764   267\n",
      "Original C Cave Creek Chili Beer - Cerveza Con ...       1.681818   132\n",
      "Bud Light Chelada                                        1.710526   114\n",
      "Wild Blue (Blueberry Lager)                              1.924274   482\n",
      "Budweiser Chelada                                        1.931159   138\n",
      "                     review_overall       \n",
      "                               mean  count\n",
      "beer_style                                \n",
      "Low Alcohol Beer           2.578268   1201\n",
      "American Malt Liquor       2.678517   3924\n",
      "Light Lager                2.698833  14306\n",
      "Euro Strong Lager          2.862518   2724\n",
      "Happoshu                   2.914938    241\n"
     ]
    }
   ],
   "source": [
    "def worst_mean_review(dataf, group_col,target_col, min_reviews= 100):\n",
    "    \"\"\"\n",
    "    \"\"\"\n",
    "    df_col = dataf.groupby(group_col).agg({target_col :['mean', 'count']})\n",
    "    df_col = df_col[df_col.loc[:,(target_col, 'count')] >= min_reviews].sort_values(by = [(target_col, 'mean')], ascending = True)\n",
    "    return df_col\n",
    "\n",
    "print(\"top 5 worst reviewed brewery, beer name, and beer style with atleast 100 reviews:\")\n",
    "print(worst_mean_review(df, 'brewery_name', 'review_overall', 100).head())\n",
    "print(worst_mean_review(df, 'beer_name', 'review_overall', 100).head())\n",
    "print(worst_mean_review(df, 'beer_style', 'review_overall', 100).head())"
   ]
  },
  {
   "cell_type": "markdown",
   "metadata": {},
   "source": [
    "### For any further analysis, and recommendation, the \"review_overall\" would be the suitable target variables. Doing additional anlaysis with it."
   ]
  },
  {
   "cell_type": "code",
   "execution_count": 28,
   "metadata": {},
   "outputs": [
    {
     "data": {
      "text/plain": [
       "Text(0.5, 1.0, 'Correlation between relevant numeric variables')"
      ]
     },
     "execution_count": 28,
     "metadata": {},
     "output_type": "execute_result"
    },
    {
     "data": {
      "image/png": "[encoded data removed]",
      "text/plain": [
       "<Figure size 432x360 with 2 Axes>"
      ]
     },
     "metadata": {
      "needs_background": "light"
     },
     "output_type": "display_data"
    }
   ],
   "source": [
    "review_vars = ['review_overall','review_aroma','review_appearance', 'review_palate', 'review_taste']\n",
    "fig, ax = plt.subplots(figsize = (6,5))\n",
    "sns.heatmap(df[review_vars+['beer_abv']].corr())\n",
    "plt.title('Correlation between relevant numeric variables')"
   ]
  },
  {
   "cell_type": "code",
   "execution_count": 29,
   "metadata": {},
   "outputs": [
    {
     "data": {
      "text/html": [
       "<div>\n",
       "<style scoped>\n",
       "    .dataframe tbody tr th:only-of-type {\n",
       "        vertical-align: middle;\n",
       "    }\n",
       "\n",
       "    .dataframe tbody tr th {\n",
       "        vertical-align: top;\n",
       "    }\n",
       "\n",
       "    .dataframe thead th {\n",
       "        text-align: right;\n",
       "    }\n",
       "</style>\n",
       "<table border=\"1\" class=\"dataframe\">\n",
       "  <thead>\n",
       "    <tr style=\"text-align: right;\">\n",
       "      <th></th>\n",
       "      <th>review_overall</th>\n",
       "      <th>review_aroma</th>\n",
       "      <th>review_appearance</th>\n",
       "      <th>review_palate</th>\n",
       "      <th>review_taste</th>\n",
       "      <th>beer_abv</th>\n",
       "    </tr>\n",
       "  </thead>\n",
       "  <tbody>\n",
       "    <tr>\n",
       "      <th>review_overall</th>\n",
       "      <td>1.000000</td>\n",
       "      <td>0.616014</td>\n",
       "      <td>0.501754</td>\n",
       "      <td>0.701899</td>\n",
       "      <td>0.789808</td>\n",
       "      <td>0.138524</td>\n",
       "    </tr>\n",
       "    <tr>\n",
       "      <th>review_aroma</th>\n",
       "      <td>0.616014</td>\n",
       "      <td>1.000000</td>\n",
       "      <td>0.561039</td>\n",
       "      <td>0.616936</td>\n",
       "      <td>0.716782</td>\n",
       "      <td>0.332571</td>\n",
       "    </tr>\n",
       "    <tr>\n",
       "      <th>review_appearance</th>\n",
       "      <td>0.501754</td>\n",
       "      <td>0.561039</td>\n",
       "      <td>1.000000</td>\n",
       "      <td>0.566660</td>\n",
       "      <td>0.547015</td>\n",
       "      <td>0.263941</td>\n",
       "    </tr>\n",
       "    <tr>\n",
       "      <th>review_palate</th>\n",
       "      <td>0.701899</td>\n",
       "      <td>0.616936</td>\n",
       "      <td>0.566660</td>\n",
       "      <td>1.000000</td>\n",
       "      <td>0.734120</td>\n",
       "      <td>0.286714</td>\n",
       "    </tr>\n",
       "    <tr>\n",
       "      <th>review_taste</th>\n",
       "      <td>0.789808</td>\n",
       "      <td>0.716782</td>\n",
       "      <td>0.547015</td>\n",
       "      <td>0.734120</td>\n",
       "      <td>1.000000</td>\n",
       "      <td>0.290845</td>\n",
       "    </tr>\n",
       "    <tr>\n",
       "      <th>beer_abv</th>\n",
       "      <td>0.138524</td>\n",
       "      <td>0.332571</td>\n",
       "      <td>0.263941</td>\n",
       "      <td>0.286714</td>\n",
       "      <td>0.290845</td>\n",
       "      <td>1.000000</td>\n",
       "    </tr>\n",
       "  </tbody>\n",
       "</table>\n",
       "</div>"
      ],
      "text/plain": [
       "                   review_overall  review_aroma  review_appearance  \\\n",
       "review_overall           1.000000      0.616014           0.501754   \n",
       "review_aroma             0.616014      1.000000           0.561039   \n",
       "review_appearance        0.501754      0.561039           1.000000   \n",
       "review_palate            0.701899      0.616936           0.566660   \n",
       "review_taste             0.789808      0.716782           0.547015   \n",
       "beer_abv                 0.138524      0.332571           0.263941   \n",
       "\n",
       "                   review_palate  review_taste  beer_abv  \n",
       "review_overall          0.701899      0.789808  0.138524  \n",
       "review_aroma            0.616936      0.716782  0.332571  \n",
       "review_appearance       0.566660      0.547015  0.263941  \n",
       "review_palate           1.000000      0.734120  0.286714  \n",
       "review_taste            0.734120      1.000000  0.290845  \n",
       "beer_abv                0.286714      0.290845  1.000000  "
      ]
     },
     "execution_count": 29,
     "metadata": {},
     "output_type": "execute_result"
    }
   ],
   "source": [
    "## Checking the raw numbers\n",
    "df[review_vars+['beer_abv']].corr()"
   ]
  },
  {
   "cell_type": "markdown",
   "metadata": {},
   "source": [
    "**Overall review seems to be most correlated on the tase and palate of the beer. There is signification correlation between taste, palate, aroma as well.**"
   ]
  },
  {
   "cell_type": "code",
   "execution_count": null,
   "metadata": {},
   "outputs": [],
   "source": []
  },
  {
   "cell_type": "markdown",
   "metadata": {},
   "source": [
    "\n",
    "### Finding the weirdest beers?\n",
    "\n",
    "### Recommend 3 beers, based on all possible data horizons, to your buddy based on this dataset? And why?\n",
    "\n",
    "### What are the most important factors for estimating the overall quality of a beer? \n",
    "\n",
    "We can define the weirdest beers by its ABV, "
   ]
  },
  {
   "cell_type": "markdown",
   "metadata": {},
   "source": [
    "**We can define the weirdest beers by its ABV, name, brewery** Let's explore"
   ]
  },
  {
   "cell_type": "code",
   "execution_count": 30,
   "metadata": {},
   "outputs": [],
   "source": [
    "##removing brewery_id and beer_id from dataset\n",
    "df = df.drop(columns = ['brewery_id', 'beer_beerid'])"
   ]
  },
  {
   "cell_type": "code",
   "execution_count": 31,
   "metadata": {},
   "outputs": [
    {
     "data": {
      "text/html": [
       "<div>\n",
       "<style scoped>\n",
       "    .dataframe tbody tr th:only-of-type {\n",
       "        vertical-align: middle;\n",
       "    }\n",
       "\n",
       "    .dataframe tbody tr th {\n",
       "        vertical-align: top;\n",
       "    }\n",
       "\n",
       "    .dataframe thead th {\n",
       "        text-align: right;\n",
       "    }\n",
       "</style>\n",
       "<table border=\"1\" class=\"dataframe\">\n",
       "  <thead>\n",
       "    <tr style=\"text-align: right;\">\n",
       "      <th></th>\n",
       "      <th>review_aroma</th>\n",
       "      <th>review_appearance</th>\n",
       "      <th>review_palate</th>\n",
       "      <th>review_taste</th>\n",
       "      <th>beer_abv</th>\n",
       "    </tr>\n",
       "    <tr>\n",
       "      <th>review_overall</th>\n",
       "      <th></th>\n",
       "      <th></th>\n",
       "      <th></th>\n",
       "      <th></th>\n",
       "      <th></th>\n",
       "    </tr>\n",
       "  </thead>\n",
       "  <tbody>\n",
       "    <tr>\n",
       "      <th>0.0</th>\n",
       "      <td>2.571429</td>\n",
       "      <td>0.000000</td>\n",
       "      <td>2.500000</td>\n",
       "      <td>2.142857</td>\n",
       "      <td>4.000000</td>\n",
       "    </tr>\n",
       "    <tr>\n",
       "      <th>1.0</th>\n",
       "      <td>1.906136</td>\n",
       "      <td>2.554008</td>\n",
       "      <td>1.792960</td>\n",
       "      <td>1.347973</td>\n",
       "      <td>6.521565</td>\n",
       "    </tr>\n",
       "    <tr>\n",
       "      <th>1.5</th>\n",
       "      <td>2.192785</td>\n",
       "      <td>2.751638</td>\n",
       "      <td>2.107377</td>\n",
       "      <td>1.738110</td>\n",
       "      <td>6.181185</td>\n",
       "    </tr>\n",
       "    <tr>\n",
       "      <th>2.0</th>\n",
       "      <td>2.600591</td>\n",
       "      <td>3.063978</td>\n",
       "      <td>2.504408</td>\n",
       "      <td>2.214525</td>\n",
       "      <td>6.323999</td>\n",
       "    </tr>\n",
       "    <tr>\n",
       "      <th>2.5</th>\n",
       "      <td>2.918702</td>\n",
       "      <td>3.265034</td>\n",
       "      <td>2.840607</td>\n",
       "      <td>2.671594</td>\n",
       "      <td>6.391848</td>\n",
       "    </tr>\n",
       "    <tr>\n",
       "      <th>3.0</th>\n",
       "      <td>3.234583</td>\n",
       "      <td>3.478690</td>\n",
       "      <td>3.174763</td>\n",
       "      <td>3.135192</td>\n",
       "      <td>6.485292</td>\n",
       "    </tr>\n",
       "    <tr>\n",
       "      <th>3.5</th>\n",
       "      <td>3.583241</td>\n",
       "      <td>3.726388</td>\n",
       "      <td>3.556327</td>\n",
       "      <td>3.586409</td>\n",
       "      <td>6.872185</td>\n",
       "    </tr>\n",
       "    <tr>\n",
       "      <th>4.0</th>\n",
       "      <td>3.874905</td>\n",
       "      <td>3.933317</td>\n",
       "      <td>3.897373</td>\n",
       "      <td>3.986722</td>\n",
       "      <td>7.158555</td>\n",
       "    </tr>\n",
       "    <tr>\n",
       "      <th>4.5</th>\n",
       "      <td>4.120834</td>\n",
       "      <td>4.120774</td>\n",
       "      <td>4.177546</td>\n",
       "      <td>4.303998</td>\n",
       "      <td>7.394581</td>\n",
       "    </tr>\n",
       "    <tr>\n",
       "      <th>5.0</th>\n",
       "      <td>4.328956</td>\n",
       "      <td>4.310029</td>\n",
       "      <td>4.437474</td>\n",
       "      <td>4.579657</td>\n",
       "      <td>7.459541</td>\n",
       "    </tr>\n",
       "  </tbody>\n",
       "</table>\n",
       "</div>"
      ],
      "text/plain": [
       "                review_aroma  review_appearance  review_palate  review_taste  \\\n",
       "review_overall                                                                 \n",
       "0.0                 2.571429           0.000000       2.500000      2.142857   \n",
       "1.0                 1.906136           2.554008       1.792960      1.347973   \n",
       "1.5                 2.192785           2.751638       2.107377      1.738110   \n",
       "2.0                 2.600591           3.063978       2.504408      2.214525   \n",
       "2.5                 2.918702           3.265034       2.840607      2.671594   \n",
       "3.0                 3.234583           3.478690       3.174763      3.135192   \n",
       "3.5                 3.583241           3.726388       3.556327      3.586409   \n",
       "4.0                 3.874905           3.933317       3.897373      3.986722   \n",
       "4.5                 4.120834           4.120774       4.177546      4.303998   \n",
       "5.0                 4.328956           4.310029       4.437474      4.579657   \n",
       "\n",
       "                beer_abv  \n",
       "review_overall            \n",
       "0.0             4.000000  \n",
       "1.0             6.521565  \n",
       "1.5             6.181185  \n",
       "2.0             6.323999  \n",
       "2.5             6.391848  \n",
       "3.0             6.485292  \n",
       "3.5             6.872185  \n",
       "4.0             7.158555  \n",
       "4.5             7.394581  \n",
       "5.0             7.459541  "
      ]
     },
     "execution_count": 31,
     "metadata": {},
     "output_type": "execute_result"
    }
   ],
   "source": [
    "#Checking overall grouped mean of review_overall\n",
    "df.groupby('review_overall').mean()"
   ]
  },
  {
   "cell_type": "markdown",
   "metadata": {},
   "source": [
    "## Adding features that could be useful for analysis and also feature engineering"
   ]
  },
  {
   "cell_type": "markdown",
   "metadata": {},
   "source": [
    "Adding length of name of beer and brewery name"
   ]
  },
  {
   "cell_type": "code",
   "execution_count": 32,
   "metadata": {},
   "outputs": [],
   "source": [
    "df['beer_name_len'] = df.beer_name.str.len()\n",
    "df['brewery_name_len'] = df.brewery_name.str.len()"
   ]
  },
  {
   "cell_type": "markdown",
   "metadata": {},
   "source": [
    "Adding average overall review and number of reviews for each group of beer, beer style and brewery name"
   ]
  },
  {
   "cell_type": "code",
   "execution_count": 33,
   "metadata": {},
   "outputs": [],
   "source": [
    "df['beer_avg_review'] = df.groupby('beer_name')['review_overall'].transform(\"mean\")\n",
    "df['beer_num_reviews'] = df.groupby('beer_name')['review_overall'].transform(\"count\")\n",
    "\n",
    "df['beer_style_avg_review'] = df.groupby('beer_style')['review_overall'].transform(\"mean\")\n",
    "df['beer_style_num_reviews'] = df.groupby('beer_style')['review_overall'].transform(\"count\")\n",
    "\n",
    "df['brewery_avg_review'] = df.groupby('brewery_name')['review_overall'].transform(\"mean\")\n",
    "df['brewery_num_reviews'] = df.groupby('brewery_name')['review_overall'].transform(\"count\")"
   ]
  },
  {
   "cell_type": "code",
   "execution_count": 34,
   "metadata": {},
   "outputs": [],
   "source": [
    "## Adding year, date, and month variable\n",
    "\n",
    "df['review_year'] = df.review_time.dt.year\n",
    "df['review_month'] = df.review_time.dt.month\n",
    "df['review_day'] = df.review_time.dt.day"
   ]
  },
  {
   "cell_type": "code",
   "execution_count": 35,
   "metadata": {},
   "outputs": [
    {
     "data": {
      "text/html": [
       "<div>\n",
       "<style scoped>\n",
       "    .dataframe tbody tr th:only-of-type {\n",
       "        vertical-align: middle;\n",
       "    }\n",
       "\n",
       "    .dataframe tbody tr th {\n",
       "        vertical-align: top;\n",
       "    }\n",
       "\n",
       "    .dataframe thead th {\n",
       "        text-align: right;\n",
       "    }\n",
       "</style>\n",
       "<table border=\"1\" class=\"dataframe\">\n",
       "  <thead>\n",
       "    <tr style=\"text-align: right;\">\n",
       "      <th></th>\n",
       "      <th>brewery_name</th>\n",
       "      <th>review_time</th>\n",
       "      <th>review_overall</th>\n",
       "      <th>review_aroma</th>\n",
       "      <th>review_appearance</th>\n",
       "      <th>review_profilename</th>\n",
       "      <th>beer_style</th>\n",
       "      <th>review_palate</th>\n",
       "      <th>review_taste</th>\n",
       "      <th>beer_name</th>\n",
       "      <th>beer_abv</th>\n",
       "      <th>beer_name_len</th>\n",
       "      <th>brewery_name_len</th>\n",
       "      <th>beer_avg_review</th>\n",
       "      <th>beer_num_reviews</th>\n",
       "      <th>beer_style_avg_review</th>\n",
       "      <th>beer_style_num_reviews</th>\n",
       "      <th>brewery_avg_review</th>\n",
       "      <th>brewery_num_reviews</th>\n",
       "      <th>review_year</th>\n",
       "      <th>review_month</th>\n",
       "      <th>review_day</th>\n",
       "    </tr>\n",
       "  </thead>\n",
       "  <tbody>\n",
       "    <tr>\n",
       "      <th>0</th>\n",
       "      <td>Vecchio Birraio</td>\n",
       "      <td>2009-02-16 20:57:03</td>\n",
       "      <td>1.5</td>\n",
       "      <td>2.0</td>\n",
       "      <td>2.5</td>\n",
       "      <td>stcules</td>\n",
       "      <td>Hefeweizen</td>\n",
       "      <td>1.5</td>\n",
       "      <td>1.5</td>\n",
       "      <td>Sausa Weizen</td>\n",
       "      <td>5.0</td>\n",
       "      <td>12</td>\n",
       "      <td>15.0</td>\n",
       "      <td>1.5</td>\n",
       "      <td>1</td>\n",
       "      <td>3.929577</td>\n",
       "      <td>27903</td>\n",
       "      <td>2.625</td>\n",
       "      <td>4.0</td>\n",
       "      <td>2009</td>\n",
       "      <td>2</td>\n",
       "      <td>16</td>\n",
       "    </tr>\n",
       "    <tr>\n",
       "      <th>1</th>\n",
       "      <td>Vecchio Birraio</td>\n",
       "      <td>2009-03-01 13:44:57</td>\n",
       "      <td>3.0</td>\n",
       "      <td>2.5</td>\n",
       "      <td>3.0</td>\n",
       "      <td>stcules</td>\n",
       "      <td>English Strong Ale</td>\n",
       "      <td>3.0</td>\n",
       "      <td>3.0</td>\n",
       "      <td>Red Moon</td>\n",
       "      <td>6.2</td>\n",
       "      <td>8</td>\n",
       "      <td>15.0</td>\n",
       "      <td>3.0</td>\n",
       "      <td>1</td>\n",
       "      <td>3.783243</td>\n",
       "      <td>4798</td>\n",
       "      <td>2.625</td>\n",
       "      <td>4.0</td>\n",
       "      <td>2009</td>\n",
       "      <td>3</td>\n",
       "      <td>1</td>\n",
       "    </tr>\n",
       "  </tbody>\n",
       "</table>\n",
       "</div>"
      ],
      "text/plain": [
       "      brewery_name         review_time  review_overall  review_aroma  \\\n",
       "0  Vecchio Birraio 2009-02-16 20:57:03             1.5           2.0   \n",
       "1  Vecchio Birraio 2009-03-01 13:44:57             3.0           2.5   \n",
       "\n",
       "   review_appearance review_profilename          beer_style  review_palate  \\\n",
       "0                2.5            stcules          Hefeweizen            1.5   \n",
       "1                3.0            stcules  English Strong Ale            3.0   \n",
       "\n",
       "   review_taste     beer_name  beer_abv  beer_name_len  brewery_name_len  \\\n",
       "0           1.5  Sausa Weizen       5.0             12              15.0   \n",
       "1           3.0      Red Moon       6.2              8              15.0   \n",
       "\n",
       "   beer_avg_review  beer_num_reviews  beer_style_avg_review  \\\n",
       "0              1.5                 1               3.929577   \n",
       "1              3.0                 1               3.783243   \n",
       "\n",
       "   beer_style_num_reviews  brewery_avg_review  brewery_num_reviews  \\\n",
       "0                   27903               2.625                  4.0   \n",
       "1                    4798               2.625                  4.0   \n",
       "\n",
       "   review_year  review_month  review_day  \n",
       "0         2009             2          16  \n",
       "1         2009             3           1  "
      ]
     },
     "execution_count": 35,
     "metadata": {},
     "output_type": "execute_result"
    }
   ],
   "source": [
    "df.head(2)"
   ]
  },
  {
   "cell_type": "code",
   "execution_count": 36,
   "metadata": {},
   "outputs": [
    {
     "data": {
      "text/html": [
       "<div>\n",
       "<style scoped>\n",
       "    .dataframe tbody tr th:only-of-type {\n",
       "        vertical-align: middle;\n",
       "    }\n",
       "\n",
       "    .dataframe tbody tr th {\n",
       "        vertical-align: top;\n",
       "    }\n",
       "\n",
       "    .dataframe thead tr th {\n",
       "        text-align: left;\n",
       "    }\n",
       "\n",
       "    .dataframe thead tr:last-of-type th {\n",
       "        text-align: right;\n",
       "    }\n",
       "</style>\n",
       "<table border=\"1\" class=\"dataframe\">\n",
       "  <thead>\n",
       "    <tr>\n",
       "      <th></th>\n",
       "      <th>beer_abv</th>\n",
       "      <th colspan=\"2\" halign=\"left\">review_overall</th>\n",
       "    </tr>\n",
       "    <tr>\n",
       "      <th></th>\n",
       "      <th>mean</th>\n",
       "      <th>mean</th>\n",
       "      <th>count</th>\n",
       "    </tr>\n",
       "    <tr>\n",
       "      <th>beer_name</th>\n",
       "      <th></th>\n",
       "      <th></th>\n",
       "      <th></th>\n",
       "    </tr>\n",
       "  </thead>\n",
       "  <tbody>\n",
       "    <tr>\n",
       "      <th>Schorschbräu Schorschbock 57%</th>\n",
       "      <td>57.70</td>\n",
       "      <td>4.000000</td>\n",
       "      <td>1</td>\n",
       "    </tr>\n",
       "    <tr>\n",
       "      <th>Schorschbräu Schorschbock 43%</th>\n",
       "      <td>43.00</td>\n",
       "      <td>3.750000</td>\n",
       "      <td>2</td>\n",
       "    </tr>\n",
       "    <tr>\n",
       "      <th>Sink The Bismarck!</th>\n",
       "      <td>41.00</td>\n",
       "      <td>3.197368</td>\n",
       "      <td>76</td>\n",
       "    </tr>\n",
       "    <tr>\n",
       "      <th>Schorschbräu Schorschbock 40%</th>\n",
       "      <td>39.44</td>\n",
       "      <td>3.333333</td>\n",
       "      <td>3</td>\n",
       "    </tr>\n",
       "    <tr>\n",
       "      <th>Black Damnation VI - Messy</th>\n",
       "      <td>39.00</td>\n",
       "      <td>4.500000</td>\n",
       "      <td>7</td>\n",
       "    </tr>\n",
       "    <tr>\n",
       "      <th>Tactical Nuclear Penguin</th>\n",
       "      <td>32.00</td>\n",
       "      <td>3.187500</td>\n",
       "      <td>88</td>\n",
       "    </tr>\n",
       "    <tr>\n",
       "      <th>Schorschbräu Schorschbock 31%</th>\n",
       "      <td>30.86</td>\n",
       "      <td>3.500000</td>\n",
       "      <td>1</td>\n",
       "    </tr>\n",
       "    <tr>\n",
       "      <th>Dave</th>\n",
       "      <td>29.00</td>\n",
       "      <td>4.437500</td>\n",
       "      <td>16</td>\n",
       "    </tr>\n",
       "    <tr>\n",
       "      <th>Ghost Deer</th>\n",
       "      <td>28.00</td>\n",
       "      <td>3.500000</td>\n",
       "      <td>3</td>\n",
       "    </tr>\n",
       "    <tr>\n",
       "      <th>Samuel Adams Utopias</th>\n",
       "      <td>27.00</td>\n",
       "      <td>4.066197</td>\n",
       "      <td>355</td>\n",
       "    </tr>\n",
       "  </tbody>\n",
       "</table>\n",
       "</div>"
      ],
      "text/plain": [
       "                              beer_abv review_overall      \n",
       "                                  mean           mean count\n",
       "beer_name                                                  \n",
       "Schorschbräu Schorschbock 57%    57.70       4.000000     1\n",
       "Schorschbräu Schorschbock 43%    43.00       3.750000     2\n",
       "Sink The Bismarck!               41.00       3.197368    76\n",
       "Schorschbräu Schorschbock 40%    39.44       3.333333     3\n",
       "Black Damnation VI - Messy       39.00       4.500000     7\n",
       "Tactical Nuclear Penguin         32.00       3.187500    88\n",
       "Schorschbräu Schorschbock 31%    30.86       3.500000     1\n",
       "Dave                             29.00       4.437500    16\n",
       "Ghost Deer                       28.00       3.500000     3\n",
       "Samuel Adams Utopias             27.00       4.066197   355"
      ]
     },
     "execution_count": 36,
     "metadata": {},
     "output_type": "execute_result"
    }
   ],
   "source": [
    "## Beers with highest ABV\n",
    "df.groupby('beer_name').agg({'beer_abv': 'mean', 'review_overall':['mean', 'count']}).sort_values(by = [('beer_abv','mean')], ascending = False).head(10)"
   ]
  },
  {
   "cell_type": "code",
   "execution_count": 37,
   "metadata": {},
   "outputs": [
    {
     "data": {
      "text/html": [
       "<div>\n",
       "<style scoped>\n",
       "    .dataframe tbody tr th:only-of-type {\n",
       "        vertical-align: middle;\n",
       "    }\n",
       "\n",
       "    .dataframe tbody tr th {\n",
       "        vertical-align: top;\n",
       "    }\n",
       "\n",
       "    .dataframe thead tr th {\n",
       "        text-align: left;\n",
       "    }\n",
       "\n",
       "    .dataframe thead tr:last-of-type th {\n",
       "        text-align: right;\n",
       "    }\n",
       "</style>\n",
       "<table border=\"1\" class=\"dataframe\">\n",
       "  <thead>\n",
       "    <tr>\n",
       "      <th></th>\n",
       "      <th>beer_abv</th>\n",
       "      <th colspan=\"2\" halign=\"left\">review_overall</th>\n",
       "    </tr>\n",
       "    <tr>\n",
       "      <th></th>\n",
       "      <th>mean</th>\n",
       "      <th>mean</th>\n",
       "      <th>count</th>\n",
       "    </tr>\n",
       "    <tr>\n",
       "      <th>beer_name</th>\n",
       "      <th></th>\n",
       "      <th></th>\n",
       "      <th></th>\n",
       "    </tr>\n",
       "  </thead>\n",
       "  <tbody>\n",
       "    <tr>\n",
       "      <th>Lindemans Chello</th>\n",
       "      <td>0.01</td>\n",
       "      <td>3.750000</td>\n",
       "      <td>2</td>\n",
       "    </tr>\n",
       "    <tr>\n",
       "      <th>Liber</th>\n",
       "      <td>0.01</td>\n",
       "      <td>1.166667</td>\n",
       "      <td>3</td>\n",
       "    </tr>\n",
       "    <tr>\n",
       "      <th>Genesee NA</th>\n",
       "      <td>0.05</td>\n",
       "      <td>1.800000</td>\n",
       "      <td>10</td>\n",
       "    </tr>\n",
       "    <tr>\n",
       "      <th>Faxe Free</th>\n",
       "      <td>0.05</td>\n",
       "      <td>2.000000</td>\n",
       "      <td>1</td>\n",
       "    </tr>\n",
       "    <tr>\n",
       "      <th>Xan Wellness</th>\n",
       "      <td>0.05</td>\n",
       "      <td>5.000000</td>\n",
       "      <td>1</td>\n",
       "    </tr>\n",
       "    <tr>\n",
       "      <th>Bavaria Malt</th>\n",
       "      <td>0.05</td>\n",
       "      <td>2.250000</td>\n",
       "      <td>2</td>\n",
       "    </tr>\n",
       "    <tr>\n",
       "      <th>Arcobräu Non-Alcoholic Pale Weiss</th>\n",
       "      <td>0.05</td>\n",
       "      <td>4.000000</td>\n",
       "      <td>1</td>\n",
       "    </tr>\n",
       "    <tr>\n",
       "      <th>Budweiser NA</th>\n",
       "      <td>0.05</td>\n",
       "      <td>2.250000</td>\n",
       "      <td>2</td>\n",
       "    </tr>\n",
       "    <tr>\n",
       "      <th>Jupiler Force</th>\n",
       "      <td>0.08</td>\n",
       "      <td>1.000000</td>\n",
       "      <td>1</td>\n",
       "    </tr>\n",
       "    <tr>\n",
       "      <th>Amstel Malt</th>\n",
       "      <td>0.10</td>\n",
       "      <td>3.250000</td>\n",
       "      <td>2</td>\n",
       "    </tr>\n",
       "  </tbody>\n",
       "</table>\n",
       "</div>"
      ],
      "text/plain": [
       "                                  beer_abv review_overall      \n",
       "                                      mean           mean count\n",
       "beer_name                                                      \n",
       "Lindemans Chello                      0.01       3.750000     2\n",
       "Liber                                 0.01       1.166667     3\n",
       "Genesee NA                            0.05       1.800000    10\n",
       "Faxe Free                             0.05       2.000000     1\n",
       "Xan Wellness                          0.05       5.000000     1\n",
       "Bavaria Malt                          0.05       2.250000     2\n",
       "Arcobräu Non-Alcoholic Pale Weiss     0.05       4.000000     1\n",
       "Budweiser NA                          0.05       2.250000     2\n",
       "Jupiler Force                         0.08       1.000000     1\n",
       "Amstel Malt                           0.10       3.250000     2"
      ]
     },
     "execution_count": 37,
     "metadata": {},
     "output_type": "execute_result"
    }
   ],
   "source": [
    "## Beers with lowest ABV\n",
    "df.groupby('beer_name').agg({'beer_abv': 'mean', 'review_overall':['mean', 'count']}).sort_values(by = [('beer_abv','mean')]).head(10)"
   ]
  },
  {
   "cell_type": "code",
   "execution_count": 38,
   "metadata": {},
   "outputs": [
    {
     "data": {
      "text/html": [
       "<div>\n",
       "<style scoped>\n",
       "    .dataframe tbody tr th:only-of-type {\n",
       "        vertical-align: middle;\n",
       "    }\n",
       "\n",
       "    .dataframe tbody tr th {\n",
       "        vertical-align: top;\n",
       "    }\n",
       "\n",
       "    .dataframe thead th {\n",
       "        text-align: right;\n",
       "    }\n",
       "</style>\n",
       "<table border=\"1\" class=\"dataframe\">\n",
       "  <thead>\n",
       "    <tr style=\"text-align: right;\">\n",
       "      <th></th>\n",
       "      <th>beer_name_len</th>\n",
       "      <th>beer_avg_review</th>\n",
       "      <th>beer_num_reviews</th>\n",
       "    </tr>\n",
       "    <tr>\n",
       "      <th>beer_name</th>\n",
       "      <th></th>\n",
       "      <th></th>\n",
       "      <th></th>\n",
       "    </tr>\n",
       "  </thead>\n",
       "  <tbody>\n",
       "    <tr>\n",
       "      <th>110K+OT Batch #2 - I.R.I.S. - Cherry Hazelnut Cacao Nib Bourbon Barrel Aged</th>\n",
       "      <td>75</td>\n",
       "      <td>4.000000</td>\n",
       "      <td>1</td>\n",
       "    </tr>\n",
       "    <tr>\n",
       "      <th>Hamilton's Back In Black Imperial Chili Spiced Chocolate Milk Coffee Porter</th>\n",
       "      <td>75</td>\n",
       "      <td>4.500000</td>\n",
       "      <td>3</td>\n",
       "    </tr>\n",
       "    <tr>\n",
       "      <th>Alesmith Speedway Stout - Madagascar Organic Fair Trade Cocoa Nibs Speedway</th>\n",
       "      <td>75</td>\n",
       "      <td>3.500000</td>\n",
       "      <td>1</td>\n",
       "    </tr>\n",
       "    <tr>\n",
       "      <th>Br&amp;#257;lis Gaiais Nefiltr&amp;#275;ts Alus (Br&amp;#257;lis Pale Unfiltered Beer)</th>\n",
       "      <td>75</td>\n",
       "      <td>3.500000</td>\n",
       "      <td>2</td>\n",
       "    </tr>\n",
       "    <tr>\n",
       "      <th>Einer's Folly Vanilla Imperial Porter (Holiday Wine Cellar's 45th Aniv Ale)</th>\n",
       "      <td>75</td>\n",
       "      <td>3.704545</td>\n",
       "      <td>44</td>\n",
       "    </tr>\n",
       "  </tbody>\n",
       "</table>\n",
       "</div>"
      ],
      "text/plain": [
       "                                                    beer_name_len  \\\n",
       "beer_name                                                           \n",
       "110K+OT Batch #2 - I.R.I.S. - Cherry Hazelnut C...             75   \n",
       "Hamilton's Back In Black Imperial Chili Spiced ...             75   \n",
       "Alesmith Speedway Stout - Madagascar Organic Fa...             75   \n",
       "Br&#257;lis Gaiais Nefiltr&#275;ts Alus (Br&#2...             75   \n",
       "Einer's Folly Vanilla Imperial Porter (Holiday ...             75   \n",
       "\n",
       "                                                    beer_avg_review  \\\n",
       "beer_name                                                             \n",
       "110K+OT Batch #2 - I.R.I.S. - Cherry Hazelnut C...         4.000000   \n",
       "Hamilton's Back In Black Imperial Chili Spiced ...         4.500000   \n",
       "Alesmith Speedway Stout - Madagascar Organic Fa...         3.500000   \n",
       "Br&#257;lis Gaiais Nefiltr&#275;ts Alus (Br&#2...         3.500000   \n",
       "Einer's Folly Vanilla Imperial Porter (Holiday ...         3.704545   \n",
       "\n",
       "                                                    beer_num_reviews  \n",
       "beer_name                                                             \n",
       "110K+OT Batch #2 - I.R.I.S. - Cherry Hazelnut C...                 1  \n",
       "Hamilton's Back In Black Imperial Chili Spiced ...                 3  \n",
       "Alesmith Speedway Stout - Madagascar Organic Fa...                 1  \n",
       "Br&#257;lis Gaiais Nefiltr&#275;ts Alus (Br&#2...                 2  \n",
       "Einer's Folly Vanilla Imperial Porter (Holiday ...                44  "
      ]
     },
     "execution_count": 38,
     "metadata": {},
     "output_type": "execute_result"
    }
   ],
   "source": [
    "##Beers with longest name\n",
    "df.groupby('beer_name').first()\\\n",
    ".sort_values(by= 'beer_name_len', ascending = False)[['beer_name_len','beer_avg_review','beer_num_reviews']].head(5)"
   ]
  },
  {
   "cell_type": "code",
   "execution_count": 39,
   "metadata": {},
   "outputs": [
    {
     "data": {
      "text/html": [
       "<div>\n",
       "<style scoped>\n",
       "    .dataframe tbody tr th:only-of-type {\n",
       "        vertical-align: middle;\n",
       "    }\n",
       "\n",
       "    .dataframe tbody tr th {\n",
       "        vertical-align: top;\n",
       "    }\n",
       "\n",
       "    .dataframe thead th {\n",
       "        text-align: right;\n",
       "    }\n",
       "</style>\n",
       "<table border=\"1\" class=\"dataframe\">\n",
       "  <thead>\n",
       "    <tr style=\"text-align: right;\">\n",
       "      <th></th>\n",
       "      <th></th>\n",
       "      <th>beer_name_len</th>\n",
       "      <th>beer_avg_review</th>\n",
       "      <th>beer_num_reviews</th>\n",
       "    </tr>\n",
       "    <tr>\n",
       "      <th>brewery_name</th>\n",
       "      <th>beer_name</th>\n",
       "      <th></th>\n",
       "      <th></th>\n",
       "      <th></th>\n",
       "    </tr>\n",
       "  </thead>\n",
       "  <tbody>\n",
       "    <tr>\n",
       "      <th>Le Trou Du Diable</th>\n",
       "      <th>V</th>\n",
       "      <td>1</td>\n",
       "      <td>3.650000</td>\n",
       "      <td>10</td>\n",
       "    </tr>\n",
       "    <tr>\n",
       "      <th>Silver City Brewing Co.</th>\n",
       "      <th>X</th>\n",
       "      <td>1</td>\n",
       "      <td>4.500000</td>\n",
       "      <td>3</td>\n",
       "    </tr>\n",
       "    <tr>\n",
       "      <th>Brasseurs Illimités</th>\n",
       "      <th>S</th>\n",
       "      <td>1</td>\n",
       "      <td>3.428571</td>\n",
       "      <td>7</td>\n",
       "    </tr>\n",
       "    <tr>\n",
       "      <th>Brasserie Bièropholie</th>\n",
       "      <th>S</th>\n",
       "      <td>1</td>\n",
       "      <td>3.428571</td>\n",
       "      <td>7</td>\n",
       "    </tr>\n",
       "    <tr>\n",
       "      <th>Bitter End Brewery and Bistro</th>\n",
       "      <th>M</th>\n",
       "      <td>1</td>\n",
       "      <td>4.000000</td>\n",
       "      <td>1</td>\n",
       "    </tr>\n",
       "    <tr>\n",
       "      <th>Fratello's &amp; Fox River Brewing</th>\n",
       "      <th>X</th>\n",
       "      <td>1</td>\n",
       "      <td>4.500000</td>\n",
       "      <td>3</td>\n",
       "    </tr>\n",
       "    <tr>\n",
       "      <th>Bernard Family Brewery</th>\n",
       "      <th>OX</th>\n",
       "      <td>2</td>\n",
       "      <td>3.000000</td>\n",
       "      <td>1</td>\n",
       "    </tr>\n",
       "    <tr>\n",
       "      <th>Birra Del Borgo</th>\n",
       "      <th>Tè</th>\n",
       "      <td>2</td>\n",
       "      <td>3.833333</td>\n",
       "      <td>12</td>\n",
       "    </tr>\n",
       "    <tr>\n",
       "      <th>Brasseurs Illimités</th>\n",
       "      <th>OR</th>\n",
       "      <td>2</td>\n",
       "      <td>3.000000</td>\n",
       "      <td>2</td>\n",
       "    </tr>\n",
       "    <tr>\n",
       "      <th>Arkell's Brewery Limited</th>\n",
       "      <th>3B</th>\n",
       "      <td>2</td>\n",
       "      <td>2.250000</td>\n",
       "      <td>2</td>\n",
       "    </tr>\n",
       "  </tbody>\n",
       "</table>\n",
       "</div>"
      ],
      "text/plain": [
       "                                          beer_name_len  beer_avg_review  \\\n",
       "brewery_name                   beer_name                                   \n",
       "Le Trou Du Diable              V                      1         3.650000   \n",
       "Silver City Brewing Co.        X                      1         4.500000   \n",
       "Brasseurs Illimités            S                      1         3.428571   \n",
       "Brasserie Bièropholie          S                      1         3.428571   \n",
       "Bitter End Brewery and Bistro  M                      1         4.000000   \n",
       "Fratello's & Fox River Brewing X                      1         4.500000   \n",
       "Bernard Family Brewery         OX                     2         3.000000   \n",
       "Birra Del Borgo                Tè                     2         3.833333   \n",
       "Brasseurs Illimités            OR                     2         3.000000   \n",
       "Arkell's Brewery Limited       3B                     2         2.250000   \n",
       "\n",
       "                                          beer_num_reviews  \n",
       "brewery_name                   beer_name                    \n",
       "Le Trou Du Diable              V                        10  \n",
       "Silver City Brewing Co.        X                         3  \n",
       "Brasseurs Illimités            S                         7  \n",
       "Brasserie Bièropholie          S                         7  \n",
       "Bitter End Brewery and Bistro  M                         1  \n",
       "Fratello's & Fox River Brewing X                         3  \n",
       "Bernard Family Brewery         OX                        1  \n",
       "Birra Del Borgo                Tè                       12  \n",
       "Brasseurs Illimités            OR                        2  \n",
       "Arkell's Brewery Limited       3B                        2  "
      ]
     },
     "execution_count": 39,
     "metadata": {},
     "output_type": "execute_result"
    }
   ],
   "source": [
    "##Beers with smallest name\n",
    "df.groupby(['brewery_name','beer_name']).first()\\\n",
    ".sort_values(by= 'beer_name_len')[['beer_name_len','beer_avg_review','beer_num_reviews']].head(10)"
   ]
  },
  {
   "cell_type": "markdown",
   "metadata": {},
   "source": [
    "## Weirdest beers\n",
    "1. **\"Schorschbräu Schorschbock 57%\"** for its 57% of beer alcohol by volumne which is more than whiskey. Though it has just one review. There are actually about 7 beers with more than 30 % ABV. \n",
    "2. **\"Sink The Bismarck!\"** for one of highest ABV of and still have about a fan following with 76 reviews!\n",
    "3. **\"Lindemans Chello\" and \"Liber** for lowest ABV of 0.01 ABV. Why even call it beer??\n",
    "4. **\"Einer's Folly Vanilla Imperial Porter (Holiday Wine Cellar's 45th Aniv Ale)\"** for  the longest name though with sufficient number of reviews (75). Long name but not very obscure beer.\n",
    "5. Beers with single letter name like **'V', 'X', 'S', 'M', 'X'**. That's some weird and lazy naming!!"
   ]
  },
  {
   "cell_type": "markdown",
   "metadata": {},
   "source": [
    "## Recommendations\n",
    "\n",
    "Recommendations can be provided to a person based on multiple criteria. In a review based dataset, the best way to provide recommendation is through a recommender system. The supervised model is trained on user reviews and user profiles. It then looks at the exisint reviews of a person recommends products based on what other  profiles have reviewed. The algorithms used for this are collaborative filtering, and matrix decomposition. So in this example, I'll ask my buddy which beers he/she likes and then use my model to recommend the personalized beer.\n",
    "\n",
    "_However,_ in this data we don't know many features of beer and due to time limit, I'll take following approaches:\n",
    "1. Go with the crowd. Recommend the 3 beers with highest ratings and approximately *half the number of reviews* than that of most reviewed beer in last _2 years_. \n",
    "2. Assume user's preferences. Assuming my buddy likes Belgian IPA. Will recommend best rated Belgian IPA to him. \n",
    "3. Recommend based on beer's attribute. This data has 5 attributes about beer and it's reviews:\n",
    "    * review_overall, review_aroma, review_appearance, review_palate, review_taste, beer_abv. Assuming for my buddy, the the aroma is most important factor. So, I'll look for beer with highest rated aroma with at least 100 reviews.\n",
    "4. Build a  regression model with review_overall as target variable and the dataset features and the new features as independent variables. Then pick up the most important features to derive recommendations."
   ]
  },
  {
   "cell_type": "markdown",
   "metadata": {},
   "source": [
    "#### Recommendation approach 1\n",
    "Go with the crowd. Recommend the beers with highest ratings and atleast half the reviews compared to that of the max reviewed beer in last 2 years."
   ]
  },
  {
   "cell_type": "code",
   "execution_count": 40,
   "metadata": {},
   "outputs": [
    {
     "name": "stdout",
     "output_type": "stream",
     "text": [
      "Number of reviews received by most reviewed beer since 2010:  [1334]\n"
     ]
    }
   ],
   "source": [
    "num_max = df[df.review_year >= 2010].groupby('beer_name').count()['brewery_name'].sort_values(ascending = False).head(1).values\n",
    "print(\"Number of reviews received by most reviewed beer since 2010: \", num_max)"
   ]
  },
  {
   "cell_type": "code",
   "execution_count": 41,
   "metadata": {},
   "outputs": [
    {
     "data": {
      "text/html": [
       "<div>\n",
       "<style scoped>\n",
       "    .dataframe tbody tr th:only-of-type {\n",
       "        vertical-align: middle;\n",
       "    }\n",
       "\n",
       "    .dataframe tbody tr th {\n",
       "        vertical-align: top;\n",
       "    }\n",
       "\n",
       "    .dataframe thead tr th {\n",
       "        text-align: left;\n",
       "    }\n",
       "\n",
       "    .dataframe thead tr:last-of-type th {\n",
       "        text-align: right;\n",
       "    }\n",
       "</style>\n",
       "<table border=\"1\" class=\"dataframe\">\n",
       "  <thead>\n",
       "    <tr>\n",
       "      <th></th>\n",
       "      <th colspan=\"2\" halign=\"left\">review_overall</th>\n",
       "    </tr>\n",
       "    <tr>\n",
       "      <th></th>\n",
       "      <th>mean</th>\n",
       "      <th>count</th>\n",
       "    </tr>\n",
       "    <tr>\n",
       "      <th>beer_name</th>\n",
       "      <th></th>\n",
       "      <th></th>\n",
       "    </tr>\n",
       "  </thead>\n",
       "  <tbody>\n",
       "    <tr>\n",
       "      <th>Pliny The Elder</th>\n",
       "      <td>4.627061</td>\n",
       "      <td>1334</td>\n",
       "    </tr>\n",
       "    <tr>\n",
       "      <th>Weihenstephaner Hefeweissbier</th>\n",
       "      <td>4.529455</td>\n",
       "      <td>679</td>\n",
       "    </tr>\n",
       "    <tr>\n",
       "      <th>The Abyss</th>\n",
       "      <td>4.462838</td>\n",
       "      <td>740</td>\n",
       "    </tr>\n",
       "  </tbody>\n",
       "</table>\n",
       "</div>"
      ],
      "text/plain": [
       "                              review_overall      \n",
       "                                        mean count\n",
       "beer_name                                         \n",
       "Pliny The Elder                     4.627061  1334\n",
       "Weihenstephaner Hefeweissbier       4.529455   679\n",
       "The Abyss                           4.462838   740"
      ]
     },
     "execution_count": 41,
     "metadata": {},
     "output_type": "execute_result"
    }
   ],
   "source": [
    "# Since the most reviewed beer had 1334 reviews, using 600 to threshold the highest rated beer of last 3 years\n",
    "\n",
    "#Using the function created earlier\n",
    "best_mean_review(df[df.review_year >= 2010], 'beer_name', 'review_overall', 600).head(3)"
   ]
  },
  {
   "cell_type": "markdown",
   "metadata": {},
   "source": [
    "Based on this approach, the 3 recommended beers are \n",
    "1. \"Pliny The Elder\", \n",
    "2. \"Weihenstephaner Hefeweissbier\", and \n",
    "3. \"The Abyss\""
   ]
  },
  {
   "cell_type": "markdown",
   "metadata": {},
   "source": [
    "#### Recommendation approach 2\n",
    "Assuming my buddy likes Belgium IPA beer style. Looking for highest rated Belgium IPA along with atleast 100 reviews to eliminate obscure beers."
   ]
  },
  {
   "cell_type": "code",
   "execution_count": 42,
   "metadata": {},
   "outputs": [
    {
     "data": {
      "text/html": [
       "<div>\n",
       "<style scoped>\n",
       "    .dataframe tbody tr th:only-of-type {\n",
       "        vertical-align: middle;\n",
       "    }\n",
       "\n",
       "    .dataframe tbody tr th {\n",
       "        vertical-align: top;\n",
       "    }\n",
       "\n",
       "    .dataframe thead tr th {\n",
       "        text-align: left;\n",
       "    }\n",
       "\n",
       "    .dataframe thead tr:last-of-type th {\n",
       "        text-align: right;\n",
       "    }\n",
       "</style>\n",
       "<table border=\"1\" class=\"dataframe\">\n",
       "  <thead>\n",
       "    <tr>\n",
       "      <th></th>\n",
       "      <th colspan=\"2\" halign=\"left\">review_overall</th>\n",
       "    </tr>\n",
       "    <tr>\n",
       "      <th></th>\n",
       "      <th>mean</th>\n",
       "      <th>count</th>\n",
       "    </tr>\n",
       "    <tr>\n",
       "      <th>beer_name</th>\n",
       "      <th></th>\n",
       "      <th></th>\n",
       "    </tr>\n",
       "  </thead>\n",
       "  <tbody>\n",
       "    <tr>\n",
       "      <th>Bitter Monk</th>\n",
       "      <td>4.314159</td>\n",
       "      <td>113</td>\n",
       "    </tr>\n",
       "    <tr>\n",
       "      <th>Duvel Tripel Hop</th>\n",
       "      <td>4.208333</td>\n",
       "      <td>204</td>\n",
       "    </tr>\n",
       "    <tr>\n",
       "      <th>Houblon Chouffe Dobbelen IPA Tripel</th>\n",
       "      <td>4.177833</td>\n",
       "      <td>1015</td>\n",
       "    </tr>\n",
       "  </tbody>\n",
       "</table>\n",
       "</div>"
      ],
      "text/plain": [
       "                                    review_overall      \n",
       "                                              mean count\n",
       "beer_name                                               \n",
       "Bitter Monk                               4.314159   113\n",
       "Duvel Tripel Hop                          4.208333   204\n",
       "Houblon Chouffe Dobbelen IPA Tripel       4.177833  1015"
      ]
     },
     "execution_count": 42,
     "metadata": {},
     "output_type": "execute_result"
    }
   ],
   "source": [
    "best_mean_review(df[df.beer_style == 'Belgian IPA'], 'beer_name', 'review_overall', 100).head(3)"
   ]
  },
  {
   "cell_type": "markdown",
   "metadata": {},
   "source": [
    "Based on this approach, the 3 recommended beers are \n",
    "1. \"Bitter Monk\t\", \n",
    "2. \"Duvel Tripel Hop\", and \n",
    "3. \"Houblon Chouffe Dobbelen IPA Tripel\""
   ]
  },
  {
   "cell_type": "markdown",
   "metadata": {},
   "source": [
    "#### Recommendation approach 3\n",
    "Assuming for my buddy, the the aroma is most important factor. So, I'll look for beer with highest rated aroma with at least 100 reviews."
   ]
  },
  {
   "cell_type": "code",
   "execution_count": 43,
   "metadata": {},
   "outputs": [
    {
     "data": {
      "text/html": [
       "<div>\n",
       "<style scoped>\n",
       "    .dataframe tbody tr th:only-of-type {\n",
       "        vertical-align: middle;\n",
       "    }\n",
       "\n",
       "    .dataframe tbody tr th {\n",
       "        vertical-align: top;\n",
       "    }\n",
       "\n",
       "    .dataframe thead tr th {\n",
       "        text-align: left;\n",
       "    }\n",
       "\n",
       "    .dataframe thead tr:last-of-type th {\n",
       "        text-align: right;\n",
       "    }\n",
       "</style>\n",
       "<table border=\"1\" class=\"dataframe\">\n",
       "  <thead>\n",
       "    <tr>\n",
       "      <th></th>\n",
       "      <th colspan=\"2\" halign=\"left\">review_aroma</th>\n",
       "    </tr>\n",
       "    <tr>\n",
       "      <th></th>\n",
       "      <th>mean</th>\n",
       "      <th>count</th>\n",
       "    </tr>\n",
       "    <tr>\n",
       "      <th>beer_name</th>\n",
       "      <th></th>\n",
       "      <th></th>\n",
       "    </tr>\n",
       "  </thead>\n",
       "  <tbody>\n",
       "    <tr>\n",
       "      <th>Pliny The Younger</th>\n",
       "      <td>4.723770</td>\n",
       "      <td>610</td>\n",
       "    </tr>\n",
       "    <tr>\n",
       "      <th>Vanilla Bean Aged Dark Lord</th>\n",
       "      <td>4.717105</td>\n",
       "      <td>152</td>\n",
       "    </tr>\n",
       "    <tr>\n",
       "      <th>Citra DIPA</th>\n",
       "      <td>4.690476</td>\n",
       "      <td>252</td>\n",
       "    </tr>\n",
       "  </tbody>\n",
       "</table>\n",
       "</div>"
      ],
      "text/plain": [
       "                            review_aroma      \n",
       "                                    mean count\n",
       "beer_name                                     \n",
       "Pliny The Younger               4.723770   610\n",
       "Vanilla Bean Aged Dark Lord     4.717105   152\n",
       "Citra DIPA                      4.690476   252"
      ]
     },
     "execution_count": 43,
     "metadata": {},
     "output_type": "execute_result"
    }
   ],
   "source": [
    "best_mean_review(df, 'beer_name', 'review_aroma', 100).head(3)"
   ]
  },
  {
   "cell_type": "markdown",
   "metadata": {},
   "source": [
    "Based on this approach, the 3 recommended beers are \n",
    "1. \"Pliny The Younger\", \n",
    "2. \"Vanilla Bean Aged Dark Lord\" \n",
    "3. \"Citra DIPA\""
   ]
  },
  {
   "cell_type": "markdown",
   "metadata": {},
   "source": [
    "## Factors for estimating overall quality of a beer\n",
    "\n",
    "I will build multiple classification and regression models with *review_overall* as target variable to find the relationship between beer rating and differnt variables."
   ]
  },
  {
   "cell_type": "markdown",
   "metadata": {},
   "source": [
    "#### 1. Regression models \n",
    "\n",
    "Preparing the data. I've added several features to the dataframe earlier as **feature engineering**. Adding a few more."
   ]
  },
  {
   "cell_type": "code",
   "execution_count": 44,
   "metadata": {},
   "outputs": [
    {
     "name": "stdout",
     "output_type": "stream",
     "text": [
      "Index(['brewery_name', 'review_time', 'review_overall', 'review_aroma',\n",
      "       'review_appearance', 'review_profilename', 'beer_style',\n",
      "       'review_palate', 'review_taste', 'beer_name', 'beer_abv',\n",
      "       'beer_name_len', 'brewery_name_len', 'beer_avg_review',\n",
      "       'beer_num_reviews', 'beer_style_avg_review', 'beer_style_num_reviews',\n",
      "       'brewery_avg_review', 'brewery_num_reviews', 'review_year',\n",
      "       'review_month', 'review_day'],\n",
      "      dtype='object')\n"
     ]
    }
   ],
   "source": [
    "print(df.columns)"
   ]
  },
  {
   "cell_type": "code",
   "execution_count": 45,
   "metadata": {},
   "outputs": [],
   "source": [
    "df['beer_name_brewery_avg_review'] = df.groupby(['brewery_name', 'beer_name'])['review_overall'].transform('mean')\n",
    "df['beer_name_brewery_avg_count'] = df.groupby(['brewery_name', 'beer_name'])['review_overall'].transform('count')"
   ]
  },
  {
   "cell_type": "code",
   "execution_count": 46,
   "metadata": {},
   "outputs": [],
   "source": [
    "#Column to check for ABV null\n",
    "df[\"ABV_Null\"] = df.beer_abv.isna().astype(int)"
   ]
  },
  {
   "cell_type": "markdown",
   "metadata": {},
   "source": [
    "The new average columns for brewery_name, beer_style, and beer_name are for target encoding. In the current way it might cause overfitting. In practise, I would create smoothed average. \n",
    "\n",
    "Also the purpose here is not to predict but to find the most important features. Hence also not splitting into training and test set."
   ]
  },
  {
   "cell_type": "code",
   "execution_count": 47,
   "metadata": {},
   "outputs": [],
   "source": [
    "#Removing rows with empty brewery Name\n",
    "df_train = df[df.brewery_name.notna()].copy()\n",
    "\n",
    "#Imputing null values of ABV with median ABV of beer style\n",
    "df_train['beer_abv'] = df.groupby('beer_style')['beer_abv'].transform(lambda x: x.fillna(x.mean()))"
   ]
  },
  {
   "cell_type": "code",
   "execution_count": 48,
   "metadata": {},
   "outputs": [],
   "source": [
    "## Listing the columns to be used for modeling\n",
    "\n",
    "orig_training_cols = ['review_aroma', 'review_appearance','review_palate', 'review_taste', 'beer_abv']\n",
    "\n",
    "all_training_cols = ['review_aroma', 'review_appearance','review_palate', 'review_taste', 'beer_abv',\n",
    "                'beer_name_len', 'brewery_name_len', 'beer_avg_review',\n",
    "       'beer_num_reviews', 'beer_style_avg_review', 'beer_style_num_reviews',\n",
    "       'brewery_avg_review', 'brewery_num_reviews', 'review_year',\n",
    "       'review_month', 'review_day', 'beer_name_brewery_avg_review','beer_name_brewery_avg_count', 'ABV_Null']\n",
    "\n",
    "target = 'review_overall'"
   ]
  },
  {
   "cell_type": "markdown",
   "metadata": {},
   "source": [
    "#### Fitting linear model\n",
    "\n",
    "On original variables"
   ]
  },
  {
   "cell_type": "code",
   "execution_count": 49,
   "metadata": {},
   "outputs": [
    {
     "name": "stdout",
     "output_type": "stream",
     "text": [
      "R squared:  0.6735012593588625\n"
     ]
    }
   ],
   "source": [
    "from sklearn.linear_model import LinearRegression\n",
    "lr = LinearRegression(normalize = True)\n",
    "\n",
    "lr.fit(df_train[orig_training_cols], df_train.review_overall)\n",
    "print(\"R squared: \",lr.score(df_train[orig_training_cols], df_train.review_overall))"
   ]
  },
  {
   "cell_type": "code",
   "execution_count": 50,
   "metadata": {},
   "outputs": [
    {
     "name": "stdout",
     "output_type": "stream",
     "text": [
      "                            OLS Regression Results                            \n",
      "==============================================================================\n",
      "Dep. Variable:         review_overall   R-squared:                       0.674\n",
      "Model:                            OLS   Adj. R-squared:                  0.674\n",
      "Method:                 Least Squares   F-statistic:                 6.544e+05\n",
      "Date:                Mon, 10 Jun 2019   Prob (F-statistic):               0.00\n",
      "Time:                        10:30:17   Log-Likelihood:            -8.4335e+05\n",
      "No. Observations:             1586260   AIC:                         1.687e+06\n",
      "Df Residuals:                 1586254   BIC:                         1.687e+06\n",
      "Df Model:                           5                                         \n",
      "Covariance Type:            nonrobust                                         \n",
      "=====================================================================================\n",
      "                        coef    std err          t      P>|t|      [0.025      0.975]\n",
      "-------------------------------------------------------------------------------------\n",
      "review_aroma          0.0768      0.001    107.483      0.000       0.075       0.078\n",
      "review_appearance     0.0482      0.001     70.332      0.000       0.047       0.050\n",
      "review_palate         0.2709      0.001    364.072      0.000       0.269       0.272\n",
      "review_taste          0.5557      0.001    731.590      0.000       0.554       0.557\n",
      "beer_abv             -0.0416      0.000   -273.408      0.000      -0.042      -0.041\n",
      "const                 0.5128      0.002    226.305      0.000       0.508       0.517\n",
      "==============================================================================\n",
      "Omnibus:                    80625.556   Durbin-Watson:                   1.863\n",
      "Prob(Omnibus):                  0.000   Jarque-Bera (JB):           313595.403\n",
      "Skew:                          -0.025   Prob(JB):                         0.00\n",
      "Kurtosis:                       5.178   Cond. No.                         74.0\n",
      "==============================================================================\n",
      "\n",
      "Warnings:\n",
      "[1] Standard Errors assume that the covariance matrix of the errors is correctly specified.\n"
     ]
    }
   ],
   "source": [
    "import statsmodels.api as sm\n",
    "df_train = sm.add_constant(df_train)\n",
    "\n",
    "lr_sm = sm.OLS(df_train.review_overall, df_train[orig_training_cols +['const']]).fit()\n",
    "# predictions = lr_sm.predict(X) \n",
    "\n",
    "print_model = lr_sm.summary()\n",
    "print(print_model)"
   ]
  },
  {
   "cell_type": "markdown",
   "metadata": {},
   "source": [
    "Linear models on original + new variables"
   ]
  },
  {
   "cell_type": "code",
   "execution_count": 51,
   "metadata": {},
   "outputs": [
    {
     "name": "stdout",
     "output_type": "stream",
     "text": [
      "R squared:  0.6804525347967145\n"
     ]
    }
   ],
   "source": [
    "lr = LinearRegression(normalize = True)\n",
    "\n",
    "lr.fit(df_train[all_training_cols], df_train.review_overall)\n",
    "print(\"R squared: \",lr.score(df_train[all_training_cols], df_train.review_overall))"
   ]
  },
  {
   "cell_type": "markdown",
   "metadata": {},
   "source": [
    "Not much improvement. So going ahead with next model"
   ]
  },
  {
   "cell_type": "code",
   "execution_count": 52,
   "metadata": {},
   "outputs": [
    {
     "name": "stdout",
     "output_type": "stream",
     "text": [
      "R squared:  0.6654622277087194\n"
     ]
    }
   ],
   "source": [
    "from sklearn.ensemble import RandomForestRegressor\n",
    "from sklearn.metrics import r2_score\n",
    "\n",
    "rf = RandomForestRegressor(n_estimators = 100, max_depth=5, random_state=1234)\n",
    "rf.fit(df_train[orig_training_cols], df_train.review_overall)\n",
    "print(\"R squared: \",r2_score(df_train.review_overall, rf.predict(df_train[orig_training_cols])))"
   ]
  },
  {
   "cell_type": "code",
   "execution_count": 53,
   "metadata": {},
   "outputs": [
    {
     "name": "stdout",
     "output_type": "stream",
     "text": [
      "review_aroma :  0.0\n",
      "review_appearance :  1.6174187216311902e-05\n",
      "review_palate :  0.048236454421412944\n",
      "review_taste :  0.9464607603701068\n",
      "beer_abv :  0.005286611021263544\n"
     ]
    }
   ],
   "source": [
    "for name, score in zip(orig_training_cols, rf.feature_importances_):\n",
    "        print(name,\": \", score)"
   ]
  },
  {
   "cell_type": "markdown",
   "metadata": {},
   "source": [
    "Running RandomForest on original + new colums"
   ]
  },
  {
   "cell_type": "code",
   "execution_count": 54,
   "metadata": {},
   "outputs": [
    {
     "name": "stdout",
     "output_type": "stream",
     "text": [
      "R squared:  0.6655073915805889\n"
     ]
    }
   ],
   "source": [
    "rf = RandomForestRegressor(n_estimators = 100, max_depth=5, random_state=1234)\n",
    "rf.fit(df_train[all_training_cols], df_train.review_overall)\n",
    "print(\"R squared: \",r2_score(df_train.review_overall, rf.predict(df_train[all_training_cols])))"
   ]
  },
  {
   "cell_type": "code",
   "execution_count": 55,
   "metadata": {},
   "outputs": [
    {
     "name": "stdout",
     "output_type": "stream",
     "text": [
      "review_aroma :  0.0\n",
      "review_appearance :  1.617390066515947e-05\n",
      "review_palate :  0.04822412689217265\n",
      "review_taste :  0.9464338893803421\n",
      "beer_abv :  0.005058910278691422\n",
      "beer_name_len :  0.0\n",
      "brewery_name_len :  0.0\n",
      "beer_avg_review :  0.0\n",
      "beer_num_reviews :  0.0\n",
      "beer_style_avg_review :  0.0002641805299164754\n",
      "beer_style_num_reviews :  0.0\n",
      "brewery_avg_review :  0.0\n",
      "brewery_num_reviews :  0.0\n",
      "review_year :  0.0\n",
      "review_month :  0.0\n",
      "review_day :  0.0\n",
      "beer_name_brewery_avg_review :  2.7190182127719584e-06\n",
      "beer_name_brewery_avg_count :  0.0\n",
      "ABV_Null :  0.0\n"
     ]
    }
   ],
   "source": [
    "for name, score in zip(all_training_cols, rf.feature_importances_):\n",
    "        print(name,\": \", score)"
   ]
  },
  {
   "cell_type": "markdown",
   "metadata": {},
   "source": [
    "#### LightGBM with original columns"
   ]
  },
  {
   "cell_type": "code",
   "execution_count": 56,
   "metadata": {},
   "outputs": [],
   "source": [
    "import lightgbm as lgb\n",
    "from sklearn.model_selection import train_test_split"
   ]
  },
  {
   "cell_type": "code",
   "execution_count": 57,
   "metadata": {},
   "outputs": [
    {
     "name": "stdout",
     "output_type": "stream",
     "text": [
      "Training until validation scores don't improve for 200 rounds.\n",
      "[400]\ttraining's rmse: 0.405654\tvalid_1's rmse: 0.406477\n",
      "[800]\ttraining's rmse: 0.4042\tvalid_1's rmse: 0.405304\n",
      "Did not meet early stopping. Best iteration is:\n",
      "[1000]\ttraining's rmse: 0.403974\tvalid_1's rmse: 0.405192\n",
      "R squared:  0.685375566562347\n"
     ]
    },
    {
     "data": {
      "text/plain": [
       "<matplotlib.axes._subplots.AxesSubplot at 0x21d0678b1d0>"
      ]
     },
     "execution_count": 57,
     "metadata": {},
     "output_type": "execute_result"
    },
    {
     "data": {
      "image/png": "[encoded data removed]",
      "text/plain": [
       "<Figure size 432x288 with 1 Axes>"
      ]
     },
     "metadata": {
      "needs_background": "light"
     },
     "output_type": "display_data"
    }
   ],
   "source": [
    "# Creating train-test set to enable early stopping\n",
    "train_x, test_x,train_y,  test_y = train_test_split(df_train[orig_training_cols], df_train.review_overall,\n",
    "                                                    test_size = 0.2)\n",
    "\n",
    "train_data = lgb.Dataset(train_x, label = train_y)\n",
    "val_data = lgb.Dataset(test_x, label = test_y)\n",
    "\n",
    "params = {\n",
    "    'metric': 'rmse',\n",
    "    'objective': 'regression',\n",
    "    'verbosity': 1,\n",
    "    'boosting_type': 'gbdt',\n",
    "   'learning_rate': 0.01\n",
    "   #'reg_lambda': 0.747531261801519,       \n",
    "}\n",
    "num_round = 1000\n",
    "\n",
    "model = lgb.train(params, train_data, num_boost_round = num_round, verbose_eval=400, \n",
    "                  valid_sets = [train_data, val_data],  early_stopping_rounds = 200)\n",
    "\n",
    "print(\"R squared: \",r2_score(df_train.review_overall, model.predict(df_train[orig_training_cols])))\n",
    "\n",
    "lgb.plot_importance(model, importance_type = 'gain')"
   ]
  },
  {
   "cell_type": "markdown",
   "metadata": {},
   "source": [
    "#### LightGBM with original + new columns"
   ]
  },
  {
   "cell_type": "code",
   "execution_count": 58,
   "metadata": {},
   "outputs": [
    {
     "name": "stdout",
     "output_type": "stream",
     "text": [
      "Training until validation scores don't improve for 200 rounds.\n",
      "[400]\ttraining's rmse: 0.398481\tvalid_1's rmse: 0.398712\n",
      "[800]\ttraining's rmse: 0.393782\tvalid_1's rmse: 0.394346\n",
      "Did not meet early stopping. Best iteration is:\n",
      "[1000]\ttraining's rmse: 0.392917\tvalid_1's rmse: 0.393631\n",
      "R squared:  0.7025052832151222\n"
     ]
    },
    {
     "data": {
      "text/plain": [
       "<matplotlib.axes._subplots.AxesSubplot at 0x21d08394710>"
      ]
     },
     "execution_count": 58,
     "metadata": {},
     "output_type": "execute_result"
    },
    {
     "data": {
      "image/png": "[encoded data removed]",
      "text/plain": [
       "<Figure size 432x288 with 1 Axes>"
      ]
     },
     "metadata": {
      "needs_background": "light"
     },
     "output_type": "display_data"
    }
   ],
   "source": [
    "train_x, test_x,train_y,  test_y = train_test_split(df_train[all_training_cols], df_train.review_overall,\n",
    "                                                    test_size = 0.2)\n",
    "\n",
    "train_data = lgb.Dataset(train_x, label = train_y)\n",
    "val_data = lgb.Dataset(test_x, label = test_y)\n",
    "\n",
    "model = lgb.train(params, train_data, num_boost_round = num_round, verbose_eval=400, \n",
    "                  valid_sets = [train_data, val_data],  early_stopping_rounds = 200)\n",
    "\n",
    "print(\"R squared: \",r2_score(df_train.review_overall, model.predict(df_train[all_training_cols])))\n",
    "\n",
    "lgb.plot_importance(model, importance_type = 'gain')"
   ]
  },
  {
   "cell_type": "markdown",
   "metadata": {},
   "source": [
    "### Finally running one classification model just to check\n",
    "\n",
    "Rounding off the review overall column"
   ]
  },
  {
   "cell_type": "code",
   "execution_count": 59,
   "metadata": {},
   "outputs": [
    {
     "data": {
      "text/html": [
       "<div>\n",
       "<style scoped>\n",
       "    .dataframe tbody tr th:only-of-type {\n",
       "        vertical-align: middle;\n",
       "    }\n",
       "\n",
       "    .dataframe tbody tr th {\n",
       "        vertical-align: top;\n",
       "    }\n",
       "\n",
       "    .dataframe thead th {\n",
       "        text-align: right;\n",
       "    }\n",
       "</style>\n",
       "<table border=\"1\" class=\"dataframe\">\n",
       "  <thead>\n",
       "    <tr style=\"text-align: right;\">\n",
       "      <th></th>\n",
       "      <th>const</th>\n",
       "      <th>brewery_name</th>\n",
       "      <th>review_time</th>\n",
       "      <th>review_overall</th>\n",
       "      <th>review_aroma</th>\n",
       "      <th>review_appearance</th>\n",
       "      <th>review_profilename</th>\n",
       "      <th>beer_style</th>\n",
       "      <th>review_palate</th>\n",
       "      <th>review_taste</th>\n",
       "      <th>beer_name</th>\n",
       "      <th>beer_abv</th>\n",
       "      <th>beer_name_len</th>\n",
       "      <th>brewery_name_len</th>\n",
       "      <th>beer_avg_review</th>\n",
       "      <th>beer_num_reviews</th>\n",
       "      <th>beer_style_avg_review</th>\n",
       "      <th>beer_style_num_reviews</th>\n",
       "      <th>brewery_avg_review</th>\n",
       "      <th>brewery_num_reviews</th>\n",
       "      <th>review_year</th>\n",
       "      <th>review_month</th>\n",
       "      <th>review_day</th>\n",
       "      <th>beer_name_brewery_avg_review</th>\n",
       "      <th>beer_name_brewery_avg_count</th>\n",
       "      <th>ABV_Null</th>\n",
       "    </tr>\n",
       "  </thead>\n",
       "  <tbody>\n",
       "    <tr>\n",
       "      <th>0</th>\n",
       "      <td>1.0</td>\n",
       "      <td>Vecchio Birraio</td>\n",
       "      <td>2009-02-16 20:57:03</td>\n",
       "      <td>2.0</td>\n",
       "      <td>2.0</td>\n",
       "      <td>2.5</td>\n",
       "      <td>stcules</td>\n",
       "      <td>Hefeweizen</td>\n",
       "      <td>1.5</td>\n",
       "      <td>1.5</td>\n",
       "      <td>Sausa Weizen</td>\n",
       "      <td>5.0</td>\n",
       "      <td>12</td>\n",
       "      <td>15.0</td>\n",
       "      <td>1.5</td>\n",
       "      <td>1</td>\n",
       "      <td>3.929577</td>\n",
       "      <td>27903</td>\n",
       "      <td>2.625000</td>\n",
       "      <td>4.0</td>\n",
       "      <td>2009</td>\n",
       "      <td>2</td>\n",
       "      <td>16</td>\n",
       "      <td>1.5</td>\n",
       "      <td>1.0</td>\n",
       "      <td>0</td>\n",
       "    </tr>\n",
       "    <tr>\n",
       "      <th>1</th>\n",
       "      <td>1.0</td>\n",
       "      <td>Vecchio Birraio</td>\n",
       "      <td>2009-03-01 13:44:57</td>\n",
       "      <td>3.0</td>\n",
       "      <td>2.5</td>\n",
       "      <td>3.0</td>\n",
       "      <td>stcules</td>\n",
       "      <td>English Strong Ale</td>\n",
       "      <td>3.0</td>\n",
       "      <td>3.0</td>\n",
       "      <td>Red Moon</td>\n",
       "      <td>6.2</td>\n",
       "      <td>8</td>\n",
       "      <td>15.0</td>\n",
       "      <td>3.0</td>\n",
       "      <td>1</td>\n",
       "      <td>3.783243</td>\n",
       "      <td>4798</td>\n",
       "      <td>2.625000</td>\n",
       "      <td>4.0</td>\n",
       "      <td>2009</td>\n",
       "      <td>3</td>\n",
       "      <td>1</td>\n",
       "      <td>3.0</td>\n",
       "      <td>1.0</td>\n",
       "      <td>0</td>\n",
       "    </tr>\n",
       "    <tr>\n",
       "      <th>2</th>\n",
       "      <td>1.0</td>\n",
       "      <td>Vecchio Birraio</td>\n",
       "      <td>2009-03-01 14:10:04</td>\n",
       "      <td>3.0</td>\n",
       "      <td>2.5</td>\n",
       "      <td>3.0</td>\n",
       "      <td>stcules</td>\n",
       "      <td>Foreign / Export Stout</td>\n",
       "      <td>3.0</td>\n",
       "      <td>3.0</td>\n",
       "      <td>Black Horse Black Beer</td>\n",
       "      <td>6.5</td>\n",
       "      <td>22</td>\n",
       "      <td>15.0</td>\n",
       "      <td>3.0</td>\n",
       "      <td>1</td>\n",
       "      <td>3.877679</td>\n",
       "      <td>5972</td>\n",
       "      <td>2.625000</td>\n",
       "      <td>4.0</td>\n",
       "      <td>2009</td>\n",
       "      <td>3</td>\n",
       "      <td>1</td>\n",
       "      <td>3.0</td>\n",
       "      <td>1.0</td>\n",
       "      <td>0</td>\n",
       "    </tr>\n",
       "    <tr>\n",
       "      <th>3</th>\n",
       "      <td>1.0</td>\n",
       "      <td>Vecchio Birraio</td>\n",
       "      <td>2009-02-15 19:12:25</td>\n",
       "      <td>3.0</td>\n",
       "      <td>3.0</td>\n",
       "      <td>3.5</td>\n",
       "      <td>stcules</td>\n",
       "      <td>German Pilsener</td>\n",
       "      <td>2.5</td>\n",
       "      <td>3.0</td>\n",
       "      <td>Sausa Pils</td>\n",
       "      <td>5.0</td>\n",
       "      <td>10</td>\n",
       "      <td>15.0</td>\n",
       "      <td>3.0</td>\n",
       "      <td>1</td>\n",
       "      <td>3.731525</td>\n",
       "      <td>22151</td>\n",
       "      <td>2.625000</td>\n",
       "      <td>4.0</td>\n",
       "      <td>2009</td>\n",
       "      <td>2</td>\n",
       "      <td>15</td>\n",
       "      <td>3.0</td>\n",
       "      <td>1.0</td>\n",
       "      <td>0</td>\n",
       "    </tr>\n",
       "    <tr>\n",
       "      <th>4</th>\n",
       "      <td>1.0</td>\n",
       "      <td>Caldera Brewing Company</td>\n",
       "      <td>2010-12-30 18:53:26</td>\n",
       "      <td>4.0</td>\n",
       "      <td>4.5</td>\n",
       "      <td>4.0</td>\n",
       "      <td>johnmichaelsen</td>\n",
       "      <td>American Double / Imperial IPA</td>\n",
       "      <td>4.0</td>\n",
       "      <td>4.5</td>\n",
       "      <td>Cauldron DIPA</td>\n",
       "      <td>7.7</td>\n",
       "      <td>13</td>\n",
       "      <td>23.0</td>\n",
       "      <td>4.0</td>\n",
       "      <td>1</td>\n",
       "      <td>3.998017</td>\n",
       "      <td>85976</td>\n",
       "      <td>3.953881</td>\n",
       "      <td>889.0</td>\n",
       "      <td>2010</td>\n",
       "      <td>12</td>\n",
       "      <td>30</td>\n",
       "      <td>4.0</td>\n",
       "      <td>1.0</td>\n",
       "      <td>0</td>\n",
       "    </tr>\n",
       "  </tbody>\n",
       "</table>\n",
       "</div>"
      ],
      "text/plain": [
       "   const             brewery_name         review_time  review_overall  \\\n",
       "0    1.0          Vecchio Birraio 2009-02-16 20:57:03             2.0   \n",
       "1    1.0          Vecchio Birraio 2009-03-01 13:44:57             3.0   \n",
       "2    1.0          Vecchio Birraio 2009-03-01 14:10:04             3.0   \n",
       "3    1.0          Vecchio Birraio 2009-02-15 19:12:25             3.0   \n",
       "4    1.0  Caldera Brewing Company 2010-12-30 18:53:26             4.0   \n",
       "\n",
       "   review_aroma  review_appearance review_profilename  \\\n",
       "0           2.0                2.5            stcules   \n",
       "1           2.5                3.0            stcules   \n",
       "2           2.5                3.0            stcules   \n",
       "3           3.0                3.5            stcules   \n",
       "4           4.5                4.0     johnmichaelsen   \n",
       "\n",
       "                       beer_style  review_palate  review_taste  \\\n",
       "0                      Hefeweizen            1.5           1.5   \n",
       "1              English Strong Ale            3.0           3.0   \n",
       "2          Foreign / Export Stout            3.0           3.0   \n",
       "3                 German Pilsener            2.5           3.0   \n",
       "4  American Double / Imperial IPA            4.0           4.5   \n",
       "\n",
       "                beer_name  beer_abv  beer_name_len  brewery_name_len  \\\n",
       "0            Sausa Weizen       5.0             12              15.0   \n",
       "1                Red Moon       6.2              8              15.0   \n",
       "2  Black Horse Black Beer       6.5             22              15.0   \n",
       "3              Sausa Pils       5.0             10              15.0   \n",
       "4           Cauldron DIPA       7.7             13              23.0   \n",
       "\n",
       "   beer_avg_review  beer_num_reviews  beer_style_avg_review  \\\n",
       "0              1.5                 1               3.929577   \n",
       "1              3.0                 1               3.783243   \n",
       "2              3.0                 1               3.877679   \n",
       "3              3.0                 1               3.731525   \n",
       "4              4.0                 1               3.998017   \n",
       "\n",
       "   beer_style_num_reviews  brewery_avg_review  brewery_num_reviews  \\\n",
       "0                   27903            2.625000                  4.0   \n",
       "1                    4798            2.625000                  4.0   \n",
       "2                    5972            2.625000                  4.0   \n",
       "3                   22151            2.625000                  4.0   \n",
       "4                   85976            3.953881                889.0   \n",
       "\n",
       "   review_year  review_month  review_day  beer_name_brewery_avg_review  \\\n",
       "0         2009             2          16                           1.5   \n",
       "1         2009             3           1                           3.0   \n",
       "2         2009             3           1                           3.0   \n",
       "3         2009             2          15                           3.0   \n",
       "4         2010            12          30                           4.0   \n",
       "\n",
       "   beer_name_brewery_avg_count  ABV_Null  \n",
       "0                          1.0         0  \n",
       "1                          1.0         0  \n",
       "2                          1.0         0  \n",
       "3                          1.0         0  \n",
       "4                          1.0         0  "
      ]
     },
     "execution_count": 59,
     "metadata": {},
     "output_type": "execute_result"
    }
   ],
   "source": [
    "df_train2 = df_train.copy()\n",
    "df_train2.review_overall = round(df_train2.review_overall)\n",
    "df_train2.head()"
   ]
  },
  {
   "cell_type": "code",
   "execution_count": 60,
   "metadata": {},
   "outputs": [
    {
     "name": "stdout",
     "output_type": "stream",
     "text": [
      "Training until validation scores don't improve for 200 rounds.\n",
      "[400]\ttraining's multi_logloss: 0.452564\tvalid_1's multi_logloss: 0.455031\n",
      "[800]\ttraining's multi_logloss: 0.437722\tvalid_1's multi_logloss: 0.44132\n",
      "Did not meet early stopping. Best iteration is:\n",
      "[1000]\ttraining's multi_logloss: 0.435039\tvalid_1's multi_logloss: 0.439358\n"
     ]
    }
   ],
   "source": [
    "params = {\n",
    "    'metric': 'multi_logloss',\n",
    "    'objective': 'multiclass',\n",
    "    'num_class':6,\n",
    "    'verbosity': 1,\n",
    "    'boosting_type': 'gbdt',\n",
    "   'learning_rate': 0.01,\n",
    "   'reg_lambda': 0.1       \n",
    "}\n",
    "num_round = 1000\n",
    "\n",
    "train_x, test_x,train_y,  test_y = train_test_split(df_train2[all_training_cols], df_train2.review_overall,\n",
    "                                                    test_size = 0.2)\n",
    "\n",
    "train_data = lgb.Dataset(train_x, label = train_y)\n",
    "val_data = lgb.Dataset(test_x, label = test_y)\n",
    "\n",
    "model = lgb.train(params, train_data, num_boost_round = num_round, verbose_eval=400, \n",
    "                  valid_sets = [train_data, val_data],  early_stopping_rounds = 200)"
   ]
  },
  {
   "cell_type": "code",
   "execution_count": 61,
   "metadata": {},
   "outputs": [
    {
     "data": {
      "text/plain": [
       "<matplotlib.axes._subplots.AxesSubplot at 0x21d0842df28>"
      ]
     },
     "execution_count": 61,
     "metadata": {},
     "output_type": "execute_result"
    },
    {
     "data": {
      "image/png": "[encoded data removed]",
      "text/plain": [
       "<Figure size 432x288 with 1 Axes>"
      ]
     },
     "metadata": {
      "needs_background": "light"
     },
     "output_type": "display_data"
    }
   ],
   "source": [
    "lgb.plot_importance(model, importance_type = 'split')"
   ]
  },
  {
   "cell_type": "markdown",
   "metadata": {},
   "source": [
    "## Model selection\n",
    "\n",
    "I'll choose the **regression model** for the estimation of beer quality as per review overall variable as the score is numeric and has an inherent numerical order in it. Among the regression models, I'll choose the **LightGBM model** as it provides the highest R2 value i.e. it is the best model among others. The gradient tree based models are also consistently perform very well in Data Science competitions. I'll also use the **new features** as the model score improved significantly after adding the new variables. \n",
    "\n",
    "\n",
    "## Business Narrative \n",
    "From the analysis, the most important factor which affects the overall quality of the beer is its taste. It's evident from multiple models as well as direct correlation,  beer taste is the most significant contributor to the over all quality of the beer. Most of the reviewers who gave a higher rating in taste of the beer, also gave a higher rating to overall quality of beer. The second most important factor which affect the quality of beer is beer palate, though to a lesser degree.\n",
    "\n",
    "The beer aroma and appearance don't have much effect on the overall quality of beer even if we can see some correlation. It's because they are also quite dependent on beer taste and palate themselves. So they do not contribute much to the final review of the beer. In summary, a higher rating in any of category generally results in a higher rating of beer.\n",
    "\n",
    "The beer ABV is next contributor to the beer quality. While one of the model says overall beer quality goes down with increasing ABV, it might not be the case for every beer as we saw some of the beers with very high/low values of ABV which might have led to average decrease in ratings. \n",
    "\n",
    "#### Recommendation approach 4\n",
    "Since taste is the most important factor in beer quality, I'll ask suggest my buddy the beers with highest rating in taste."
   ]
  },
  {
   "cell_type": "markdown",
   "metadata": {},
   "source": [
    "## End of analysis"
   ]
  },
  {
   "cell_type": "code",
   "execution_count": null,
   "metadata": {},
   "outputs": [],
   "source": []
  }
 ],
 "metadata": {
  "kernelspec": {
   "display_name": "Python 3",
   "language": "python",
   "name": "python3"
  },
  "language_info": {
   "codemirror_mode": {
    "name": "ipython",
    "version": 3
   },
   "file_extension": ".py",
   "mimetype": "text/x-python",
   "name": "python",
   "nbconvert_exporter": "python",
   "pygments_lexer": "ipython3",
   "version": "3.7.1"
  }
 },
 "nbformat": 4,
 "nbformat_minor": 2
}
